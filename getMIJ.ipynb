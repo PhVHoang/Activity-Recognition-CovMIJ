{
 "cells": [
  {
   "cell_type": "code",
   "execution_count": 1,
   "metadata": {},
   "outputs": [],
   "source": [
    "import numpy as np\n",
    "import pandas as pd\n",
    "import matplotlib.pyplot as plt\n",
    "import seaborn as sns\n",
    "from norm import *\n",
    "from utils import *\n",
    "from MostJoints.getMostInformativeJoints import *\n",
    "import os\n",
    "from itertools import chain\n",
    "import setting\n",
    "\n",
    "from sklearn.multiclass import OneVsRestClassifier\n",
    "from sklearn.svm import LinearSVC\n",
    "%matplotlib inline"
   ]
  },
  {
   "cell_type": "code",
   "execution_count": 2,
   "metadata": {},
   "outputs": [],
   "source": [
    "DATA_PATH = 'data/'\n",
    "ACTION_SETS_PATH = 'actionsets/'\n",
    "ACTION_SETS  = ['actionsets/ActionSet1.txt', 'actionsets/ActionSet2.txt', 'actionsets/ActionSet3.txt']\n",
    "ACTION_NAMES = ['Wave','Hammer','Smash','Catch','Forward Punch','Throw','Draw X','Draw Tick','Draw ',\n",
    "               'Circle','Clapping Hand','Two hand Wave','Side Boxing','Bend','Forward Kick','Side Kick','Jogging',\n",
    "               'Tennis Swing','Tennis Serve','Golf Swing','Pickup&throw']\n",
    "TRAINING_SUBJECTS = ['s01','s03','s05','s07','s09']\n",
    "TESTING_SUBJECTS = ['s02','s04','s06','s08','s10']\n",
    "\n",
    "with open(ACTION_SETS_PATH + 'ActionSet3.txt', 'r') as f:\n",
    "    as3_names = f.readlines()\n",
    "for i in range(len(as3_names)):\n",
    "    as3_names[i] = as3_names[i].rstrip(\"\\n\")"
   ]
  },
  {
   "cell_type": "code",
   "execution_count": 3,
   "metadata": {},
   "outputs": [],
   "source": [
    "train_as3_names = [as3_names[i] for i in range(len(as3_names)) if as3_names[i][4:7] in TRAINING_SUBJECTS]\n",
    "test_as3_names = [as3_names[i] for i in range(len(as3_names)) if as3_names[i][4:7] in TESTING_SUBJECTS]\n",
    "train_as3_names = [train_as3_names[i] + '_skeleton3D.txt' for i in range(len(train_as3_names))]\n",
    "test_as3_names = [test_as3_names[i] + '_skeleton3D.txt' for i in range(len(test_as3_names))]\n",
    "as3_names = [as3_names[i] + '_skeleton3D.txt' for i in range(len(as3_names))]\n",
    "train_as3_names = sorted(train_as3_names)\n",
    "test_as3_names = sorted(test_as3_names)\n",
    "as3_names = sorted(as3_names)"
   ]
  },
  {
   "cell_type": "code",
   "execution_count": 4,
   "metadata": {},
   "outputs": [],
   "source": [
    "def get_most_informative_joints(filenames):\n",
    "    # Notice that filenames shoube be sorted before fitting into this method\n",
    "    # For training phase\n",
    "    noFramesList = []\n",
    "    d1 = {'a0' + str(i) : [] for i in range(1,10)}\n",
    "    d2 = {'a' + str(i) : [] for i in range(10, 21)}\n",
    "    mostInformativeJointsList = dict(chain.from_iterable(d.items() for d in (d1,d2)))\n",
    "    for i in range(len(filenames)):\n",
    "        with open('data/' + filenames[i], 'r') as f:\n",
    "            skeleton_i_th = [line.rstrip('\\n') for line in f]\n",
    "        for j in range(len(skeleton_i_th)):\n",
    "            skeleton_i_th[j] = [float(coord) for coord in skeleton_i_th[j].split(' ')]\n",
    "        skeleton_i_th = np.asarray(skeleton_i_th)\n",
    "        noFrames = int(skeleton_i_th.shape[0]/setting.NUMBER_OF_JOINTS)\n",
    "        x = skeleton_i_th[:,0]\n",
    "        y = skeleton_i_th[:,1]\n",
    "        z = skeleton_i_th[:,2]\n",
    "        x = x.reshape(setting.NUMBER_OF_JOINTS, int(skeleton_i_th.shape[0]/setting.NUMBER_OF_JOINTS))\n",
    "        y = y.reshape(setting.NUMBER_OF_JOINTS, int(skeleton_i_th.shape[0]/setting.NUMBER_OF_JOINTS))\n",
    "        z = z.reshape(setting.NUMBER_OF_JOINTS, int(skeleton_i_th.shape[0]/setting.NUMBER_OF_JOINTS))\n",
    "        t = np.arange(1, noFrames+1)\n",
    "        noFramesList.append(noFrames)\n",
    "        listIdxMostJoints = getMostJoints(x.T,y.T,z.T,1,setting.NUMBER_OF_JOINTS)\n",
    "        mostInformativeJointsList[filenames[i][0:3]].append(listIdxMostJoints)\n",
    "    return noFramesList, mostInformativeJointsList"
   ]
  },
  {
   "cell_type": "code",
   "execution_count": 5,
   "metadata": {},
   "outputs": [],
   "source": [
    "train_as3_noFrameList, train_as3_mostInformativeJointsList = get_most_informative_joints(train_as3_names)"
   ]
  },
  {
   "cell_type": "code",
   "execution_count": 21,
   "metadata": {},
   "outputs": [],
   "source": [
    "def plot_histograms(action_label):\n",
    "    action = train_as3_mostInformativeJointsList[action_label]\n",
    "    Ns_4 = [0 for i in range(20)]\n",
    "    Ns_8 = [0 for i in range(20)]\n",
    "    Ns_12 = [0 for i in range(20)]\n",
    "    \n",
    "    for i in range(len(action)):\n",
    "        for j in range(0, 20):\n",
    "            if action[i][j] > 15 :\n",
    "                Ns_4[j] += 1\n",
    "            if action[i][j] > 11:\n",
    "                Ns_8[j] += 1\n",
    "            if action[i][j] > 7:\n",
    "                Ns_12[j] += 1\n",
    "    x_labels = [i for i in range(1,21)]\n",
    "    fig, ax = plt.subplots(figsize=(10,6))\n",
    "    ind = np.arange(20)\n",
    "    width = 0.35\n",
    "    p1 = ax.bar(ind, Ns_4, width, color='indianred')\n",
    "    p2 = ax.bar(ind+width, Ns_8, width, color='dimgray')\n",
    "    p3 = ax.bar(ind+width*2, Ns_12, width, color='lightseagreen')\n",
    "    ax.set_title('Joint apperances of action' + action_label)\n",
    "    ax.set_xticks(ind+width/2)\n",
    "    ax.set_xticklabels(x_labels)\n",
    "    ax.legend((p1[0], p2[0], p3[0]), ('Ns_4', 'Ns_8', 'Ns_12'))\n",
    "    ax.autoscale_view()\n",
    "    plt.show()\n",
    "    return Ns_4, Ns_8, Ns_12"
   ]
  },
  {
   "cell_type": "code",
   "execution_count": 22,
   "metadata": {},
   "outputs": [
    {
     "data": {
      "image/png": "[encoded data removed]",
      "text/plain": [
       "<Figure size 720x432 with 1 Axes>"
      ]
     },
     "metadata": {
      "needs_background": "light"
     },
     "output_type": "display_data"
    },
    {
     "data": {
      "text/plain": [
       "([4, 9, 9, 4, 3, 2, 0, 2, 0, 2, 0, 0, 0, 0, 0, 1, 4, 2, 6, 12],\n",
       " [10, 14, 14, 10, 7, 9, 3, 3, 2, 3, 0, 1, 0, 0, 1, 5, 5, 7, 11, 15],\n",
       " [14, 15, 15, 13, 13, 11, 11, 10, 5, 9, 2, 4, 0, 2, 3, 8, 7, 10, 13, 15])"
      ]
     },
     "execution_count": 22,
     "metadata": {},
     "output_type": "execute_result"
    }
   ],
   "source": [
    "plot_histograms('a06')"
   ]
  },
  {
   "cell_type": "code",
   "execution_count": 8,
   "metadata": {},
   "outputs": [
    {
     "data": {
      "image/png": "[encoded data removed]",
      "text/plain": [
       "<Figure size 720x432 with 1 Axes>"
      ]
     },
     "metadata": {
      "needs_background": "light"
     },
     "output_type": "display_data"
    },
    {
     "data": {
      "text/plain": [
       "([0, 4, 3, 5, 1, 7, 3, 1, 2, 3, 0, 2, 1, 4, 4, 2, 3, 2, 1, 8],\n",
       " [1, 6, 5, 7, 3, 10, 7, 6, 5, 3, 3, 3, 5, 8, 5, 7, 9, 5, 2, 12],\n",
       " [4, 9, 8, 9, 11, 11, 12, 9, 6, 5, 4, 6, 8, 11, 7, 10, 11, 10, 5, 12])"
      ]
     },
     "execution_count": 8,
     "metadata": {},
     "output_type": "execute_result"
    }
   ],
   "source": [
    "plot_histograms('a14')"
   ]
  },
  {
   "cell_type": "code",
   "execution_count": 10,
   "metadata": {},
   "outputs": [
    {
     "data": {
      "image/png": "[encoded data removed]",
      "text/plain": [
       "<Figure size 720x432 with 1 Axes>"
      ]
     },
     "metadata": {
      "needs_background": "light"
     },
     "output_type": "display_data"
    },
    {
     "data": {
      "text/plain": [
       "([0, 1, 0, 0, 3, 9, 10, 10, 8, 3, 0, 0, 1, 0, 0, 1, 1, 0, 2, 3],\n",
       " [0, 7, 7, 6, 5, 12, 12, 11, 8, 8, 2, 0, 1, 1, 1, 2, 2, 2, 6, 11],\n",
       " [10, 13, 12, 10, 11, 12, 12, 11, 10, 10, 5, 3, 2, 1, 1, 5, 4, 4, 7, 13])"
      ]
     },
     "execution_count": 10,
     "metadata": {},
     "output_type": "execute_result"
    }
   ],
   "source": [
    "plot_histograms('a20')"
   ]
  },
  {
   "cell_type": "code",
   "execution_count": 14,
   "metadata": {},
   "outputs": [],
   "source": [
    "def sort_and_keep_indexes(Ns, numOfJoints):\n",
    "    Ns = sorted(range(len(Ns)), key = Ns.__getitem__)\n",
    "    Ns = Ns[len(Ns)-numOfJoints:]\n",
    "    return Ns\n",
    "\n",
    "def get_idx_mostJoints(action_label):\n",
    "    action = train_as3_mostInformativeJointsList[action_label]\n",
    "    Ns_4 = [0 for i in range(20)]\n",
    "    Ns_8 = [0 for i in range(20)]\n",
    "    Ns_12 = [0 for i in range(20)]\n",
    "\n",
    "    for i in range(len(action)):\n",
    "        for j in range(0, 20):\n",
    "            if action[i][j] > 15 :\n",
    "                Ns_4[j] += 1\n",
    "            if action[i][j] > 11:\n",
    "                Ns_8[j] += 1\n",
    "            if action[i][j] > 7:\n",
    "                Ns_12[j] += 1\n",
    "    Ns_4 = np.asarray(sort_and_keep_indexes(Ns_4, 4))\n",
    "    Ns_8 = np.asarray(sort_and_keep_indexes(Ns_8, 8))\n",
    "    Ns_12 = np.asarray(sort_and_keep_indexes(Ns_12, 12))\n",
    "    return Ns_4, Ns_8, Ns_12"
   ]
  },
  {
   "cell_type": "code",
   "execution_count": 17,
   "metadata": {},
   "outputs": [],
   "source": [
    "action_label_list = ['a06', 'a14', 'a15', 'a16', 'a17', 'a18', 'a19', 'a20']\n",
    "Ns4_as3_list = np.zeros((len(action_label_list), 4), dtype=np.int)\n",
    "for i in range(Ns4_as1_list.shape[0]):\n",
    "    Ns_4, _, _ = get_idx_mostJoints(action_label_list[i])\n",
    "    Ns4_as3_list[i] = Ns_4"
   ]
  },
  {
   "cell_type": "code",
   "execution_count": 43,
   "metadata": {},
   "outputs": [
    {
     "name": "stdout",
     "output_type": "stream",
     "text": [
      "[[18  1  2 19]\n",
      " [14  3  5 19]\n",
      " [14 15  3 19]\n",
      " [ 0  2 19  1]\n",
      " [ 1 18  2 19]\n",
      " [18  3  1 19]\n",
      " [15 12 18 19]\n",
      " [ 8  5  6  7]]\n"
     ]
    }
   ],
   "source": [
    "Ns4_as3_list = Ns4_as3_list-1\n",
    "print(Ns4_as3_list)"
   ]
  },
  {
   "cell_type": "code",
   "execution_count": 80,
   "metadata": {},
   "outputs": [],
   "source": [
    "Ns4_as3_list = np.array([[9,11,13,2], [17,19,15,12],[17,19,13,15],[12,13,10,11],\n",
    " [11,13,9,8], [11,12,13,10], [10,12,13,11], [11,13,9,12]])\n",
    "Ns4_as3_list = Ns4_as3_list-1"
   ]
  },
  {
   "cell_type": "code",
   "execution_count": 81,
   "metadata": {},
   "outputs": [],
   "source": [
    "def get_MIJ_matrices(filename):\n",
    "    \n",
    "    action_label = int(filename[1:3])\n",
    "    \n",
    "    with open('data/' + filename, 'r') as f:\n",
    "        skeleton_matrix = [line.rstrip('\\n') for line in f]\n",
    "    for j in range(len(skeleton_matrix)):\n",
    "        skeleton_matrix[j] = [float(coord) for coord in skeleton_matrix[j].split(' ')]\n",
    "    \n",
    "    skeleton_matrix = np.asarray(skeleton_matrix)\n",
    "    noFrames = int(skeleton_matrix.shape[0]/setting.NUMBER_OF_JOINTS)\n",
    "    x = skeleton_matrix[:,0]\n",
    "    y = skeleton_matrix[:,1]\n",
    "    z = skeleton_matrix[:,2]\n",
    "\n",
    "    x = x.reshape(setting.NUMBER_OF_JOINTS, int(skeleton_matrix.shape[0]/setting.NUMBER_OF_JOINTS))\n",
    "    y = y.reshape(setting.NUMBER_OF_JOINTS, int(skeleton_matrix.shape[0]/setting.NUMBER_OF_JOINTS))\n",
    "    z = z.reshape(setting.NUMBER_OF_JOINTS, int(skeleton_matrix.shape[0]/setting.NUMBER_OF_JOINTS))\n",
    "    t = np.arange(1, noFrames+1).T\n",
    "    if action_label == 6:\n",
    "        x = x[Ns4_as3_list[0]]\n",
    "        y = y[Ns4_as3_list[0]]\n",
    "        z = z[Ns4_as3_list[0]]\n",
    "    else:\n",
    "        x = x[Ns4_as3_list[action_label-13]]\n",
    "        y = y[Ns4_as3_list[action_label-13]]\n",
    "        z = z[Ns4_as3_list[action_label-13]]\n",
    "    return x,y,z,t"
   ]
  },
  {
   "cell_type": "code",
   "execution_count": 82,
   "metadata": {},
   "outputs": [],
   "source": [
    "def calculateCovarianceMat(X, Y, Z, T, nLevels, overlap = False, timeVar=True):\n",
    "    nFrames = X.shape[0]\n",
    "    nJoins = X.shape[1]\n",
    "    assert Y.shape[0] == nFrames\n",
    "    assert Z.shape[0] == nFrames\n",
    "    assert T.shape[0] == nFrames\n",
    "    assert Y.shape[1] == nJoins\n",
    "    assert Z.shape[1] == nJoins\n",
    "\n",
    "    # Normalize skeleton coordinators\n",
    "\n",
    "    normX = normCord(X)\n",
    "    normY = normCord(Y)\n",
    "    normZ = normCord(Z)\n",
    "    normT = normSeT(T)\n",
    "\n",
    "    # Create a list of full covariance matrices\n",
    "    fullCovMats = [[] for i in range(nLevels)]\n",
    "    covMats = [[] for i in range(nLevels)]\n",
    "\n",
    "    if timeVar:\n",
    "        sizeMatrix = nJoins*3+1\n",
    "    else:\n",
    "        sizeMatrix = nJoins*3\n",
    "\n",
    "    listIdxMatrix = getValueMatrix(sizeMatrix) # get half of covariance matrix indexes\n",
    "\n",
    "\n",
    "    for l in range(1,nLevels+1):\n",
    "        # Compute covariance matrixes for each level\n",
    "        nofMats = 2**(l-1)\n",
    "        sizeWindow = 1/nofMats\n",
    "        stepWindow = sizeWindow\n",
    "        if overlap:\n",
    "            stepWindow = stepWindow/2\n",
    "            nofMats = nofMats*2-1\n",
    "        startFrameTimes = [stepWindow*i for i in range(nofMats)]\n",
    "        fullCovMats[l-1] = [[] for i in range(nofMats)]\n",
    "        covMats[l-1] = [[] for i in range(nofMats)]\n",
    "        for i in range(len(startFrameTimes)):\n",
    "            startTime = startFrameTimes[i]\n",
    "            endTime = startFrameTimes[i] + sizeWindow + 2*np.finfo(float).eps\n",
    "            sliceInds = [i for i in range(T.shape[0]) if normT[i] >= startTime and normT[i] < endTime]\n",
    "            sliceX = normX[sliceInds, :]\n",
    "            sliceY = normY[sliceInds, :]\n",
    "            sliceZ = normZ[sliceInds, :]\n",
    "            sliceT = normT[sliceInds]\n",
    "            if not timeVar:\n",
    "                sliceVars = np.concatenate((np.concatenate((sliceX,sliceY), axis=1), sliceZ), axis=1)\n",
    "            else:\n",
    "                sliceVars = np.concatenate((np.concatenate((sliceX, sliceY), axis=1), np.concatenate((sliceZ, sliceT), axis=1)), axis=1)\n",
    "            covarianceMat = np.cov(sliceVars.T)\n",
    "            fullCovMats[l-1][i] = covarianceMat\n",
    "            # Get half of covarianceMat and save it as a vector (1-D matrix)\n",
    "            one_half_vector = []\n",
    "            mask = np.zeros_like(covarianceMat, dtype=np.bool)\n",
    "            mask[np.triu_indices_from(mask)] = True\n",
    "            for row in range(covarianceMat.shape[0]):\n",
    "                for column in range(covarianceMat.shape[0]):\n",
    "                    if mask[row][column] == True:\n",
    "                        one_half_vector.append(covarianceMat[row][column])\n",
    "            covMats[l-1][i] = np.asarray(one_half_vector)\n",
    "        covMats[l-1] = np.asarray(covMats[l-1])\n",
    "        \n",
    "    covMats = np.asarray(covMats)\n",
    "    vec = np.empty(0)\n",
    "    for i in range(covMats.shape[0]):\n",
    "        for j in range(covMats[i].shape[0]):\n",
    "            vec = np.hstack((vec, covMats[i][j]))\n",
    "    return fullCovMats, vec"
   ]
  },
  {
   "cell_type": "code",
   "execution_count": 83,
   "metadata": {},
   "outputs": [],
   "source": [
    "def get_covariance_vector(x,y,z,t):\n",
    "    fullCovmat, vec_covMat = calculateCovarianceMat(x.T, y.T, z.T, t, nLevels=3, overlap=True, timeVar=False)\n",
    "    return vec_covMat"
   ]
  },
  {
   "cell_type": "code",
   "execution_count": 84,
   "metadata": {},
   "outputs": [],
   "source": [
    "def make_preprocessed_training_data(filenames):\n",
    "    X_train, y_train = [], []\n",
    "    for i in range(len(filenames)):\n",
    "        x, y, z, t = get_MIJ_matrices(filenames[i])\n",
    "        vec_covMat = get_covariance_vector(x,y,z,t)\n",
    "        label = int(filenames[i][1:3])\n",
    "        X_train.append(vec_covMat)\n",
    "        y_train.append(label)\n",
    "    X_train = np.asarray(X_train)\n",
    "    y_train = np.asarray(y_train)\n",
    "    return X_train, y_train"
   ]
  },
  {
   "cell_type": "code",
   "execution_count": 111,
   "metadata": {},
   "outputs": [],
   "source": [
    "X_train, y_train = make_preprocessed_training_data(train_as3_names)"
   ]
  },
  {
   "cell_type": "code",
   "execution_count": 117,
   "metadata": {},
   "outputs": [],
   "source": [
    "from sklearn.svm import SVC\n",
    "model = OneVsRestClassifier(LinearSVC(random_state=0)).fit(X_train, y_train)"
   ]
  },
  {
   "cell_type": "code",
   "execution_count": 118,
   "metadata": {},
   "outputs": [],
   "source": [
    "X_test, y_test = make_preprocessed_training_data(test_as3_names)"
   ]
  },
  {
   "cell_type": "code",
   "execution_count": 119,
   "metadata": {},
   "outputs": [],
   "source": [
    "y_hat = model.predict(X_test)"
   ]
  },
  {
   "cell_type": "code",
   "execution_count": 120,
   "metadata": {},
   "outputs": [
    {
     "name": "stdout",
     "output_type": "stream",
     "text": [
      "70.47619047619048\n"
     ]
    }
   ],
   "source": [
    "def get_acc(y_test, y_hat):\n",
    "    count = 0\n",
    "    for i in range(y_test.shape[0]):\n",
    "        if y_test[i] == y_hat[i]:\n",
    "            count += 1\n",
    "    acc = (count/y_test.shape[0])*100\n",
    "    return acc\n",
    "print(get_acc(y_test, y_hat))"
   ]
  },
  {
   "cell_type": "code",
   "execution_count": 121,
   "metadata": {},
   "outputs": [],
   "source": [
    "from sklearn.metrics import f1_score"
   ]
  },
  {
   "cell_type": "code",
   "execution_count": 122,
   "metadata": {},
   "outputs": [
    {
     "data": {
      "text/plain": [
       "0.7047619047619048"
      ]
     },
     "execution_count": 122,
     "metadata": {},
     "output_type": "execute_result"
    }
   ],
   "source": [
    "f1_score(y_test, y_hat, average='micro')  "
   ]
  },
  {
   "cell_type": "code",
   "execution_count": 107,
   "metadata": {},
   "outputs": [],
   "source": [
    "from sklearn import svm\n",
    "cls = svm.SVC(gamma='scale')"
   ]
  },
  {
   "cell_type": "code",
   "execution_count": 113,
   "metadata": {},
   "outputs": [
    {
     "data": {
      "text/plain": [
       "SVC(C=1.0, cache_size=200, class_weight=None, coef0=0.0,\n",
       "  decision_function_shape='ovr', degree=3, gamma='scale', kernel='rbf',\n",
       "  max_iter=-1, probability=False, random_state=None, shrinking=True,\n",
       "  tol=0.001, verbose=False)"
      ]
     },
     "execution_count": 113,
     "metadata": {},
     "output_type": "execute_result"
    }
   ],
   "source": [
    "cls.fit(X_train, y_train)"
   ]
  },
  {
   "cell_type": "code",
   "execution_count": 114,
   "metadata": {},
   "outputs": [],
   "source": [
    "y_hat = cls.predict(X_test)"
   ]
  },
  {
   "cell_type": "code",
   "execution_count": 115,
   "metadata": {},
   "outputs": [
    {
     "data": {
      "text/plain": [
       "0.29523809523809524"
      ]
     },
     "execution_count": 115,
     "metadata": {},
     "output_type": "execute_result"
    }
   ],
   "source": [
    "f1_score(y_test, y_hat, average='micro')  "
   ]
  },
  {
   "cell_type": "code",
   "execution_count": 116,
   "metadata": {},
   "outputs": [
    {
     "data": {
      "text/plain": [
       "29.523809523809526"
      ]
     },
     "execution_count": 116,
     "metadata": {},
     "output_type": "execute_result"
    }
   ],
   "source": [
    "get_acc(y_test, y_hat)"
   ]
  },
  {
   "cell_type": "code",
   "execution_count": null,
   "metadata": {},
   "outputs": [],
   "source": []
  }
 ],
 "metadata": {
  "kernelspec": {
   "display_name": "Python 3",
   "language": "python",
   "name": "python3"
  },
  "language_info": {
   "codemirror_mode": {
    "name": "ipython",
    "version": 3
   },
   "file_extension": ".py",
   "mimetype": "text/x-python",
   "name": "python",
   "nbconvert_exporter": "python",
   "pygments_lexer": "ipython3",
   "version": "3.6.7"
  }
 },
 "nbformat": 4,
 "nbformat_minor": 2
}
