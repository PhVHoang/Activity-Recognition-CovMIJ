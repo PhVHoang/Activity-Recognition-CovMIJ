{
 "cells": [
  {
   "cell_type": "markdown",
   "metadata": {},
   "source": [
    "## Import necessary modules"
   ]
  },
  {
   "cell_type": "code",
   "execution_count": 1,
   "metadata": {},
   "outputs": [],
   "source": [
    "import numpy as np\n",
    "import pandas as pd\n",
    "import matplotlib.pyplot as plt\n",
    "import seaborn as sns\n",
    "from norm import *\n",
    "from utils import *\n",
    "from MostJoints.getMostInformativeJoints import *\n",
    "import os\n",
    "from itertools import chain\n",
    "import setting\n",
    "\n",
    "from sklearn.multiclass import OneVsRestClassifier\n",
    "from sklearn.svm import LinearSVC\n",
    "%matplotlib inline"
   ]
  },
  {
   "cell_type": "markdown",
   "metadata": {},
   "source": [
    "## Make skeleton coordinators matrix"
   ]
  },
  {
   "cell_type": "code",
   "execution_count": 2,
   "metadata": {},
   "outputs": [],
   "source": [
    "DATA_PATH = 'data/'\n",
    "ACTION_SETS_PATH = 'actionsets/'\n",
    "ACTION_SETS  = ['actionsets/ActionSet1.txt', 'actionsets/ActionSet2.txt', 'actionsets/ActionSet3.txt']\n",
    "ACTION_NAMES = ['Wave','Hammer','Smash','Catch','Forward Punch','Throw','Draw X','Draw Tick','Draw ',\n",
    "               'Circle','Clapping Hand','Two hand Wave','Side Boxing','Bend','Forward Kick','Side Kick','Jogging',\n",
    "               'Tennis Swing','Tennis Serve','Golf Swing','Pickup&throw']"
   ]
  },
  {
   "cell_type": "code",
   "execution_count": 3,
   "metadata": {},
   "outputs": [
    {
     "name": "stdout",
     "output_type": "stream",
     "text": [
      "Number of video files:  564\n"
     ]
    }
   ],
   "source": [
    "TRAINING_SUBJECTS = ['s01','s03','s05','s07','s09']\n",
    "TESTING_SUBJECTS = ['s02','s04','s06','s08','s10']\n",
    "data_file_names = os.listdir(DATA_PATH)\n",
    "print(\"Number of video files: \", len(data_file_names))"
   ]
  },
  {
   "cell_type": "code",
   "execution_count": 4,
   "metadata": {},
   "outputs": [],
   "source": [
    "train_data_file_names = [data_file_names[i] for i in range(len(data_file_names)) if data_file_names[i][4:7] in TRAINING_SUBJECTS]\n",
    "test_data_file_names = [data_file_names[i] for i in range(len(data_file_names)) if data_file_names[i][4:7] in TESTING_SUBJECTS]"
   ]
  },
  {
   "cell_type": "code",
   "execution_count": 5,
   "metadata": {},
   "outputs": [
    {
     "name": "stdout",
     "output_type": "stream",
     "text": [
      "Number of training videos:  291\n",
      "Number of testing videos:  270\n"
     ]
    }
   ],
   "source": [
    "print(\"Number of training videos: \", len(train_data_file_names))\n",
    "print(\"Number of testing videos: \", len(test_data_file_names))"
   ]
  },
  {
   "cell_type": "code",
   "execution_count": 6,
   "metadata": {},
   "outputs": [
    {
     "data": {
      "image/png": "[encoded data removed]",
      "text/plain": [
       "<Figure size 432x288 with 1 Axes>"
      ]
     },
     "metadata": {
      "needs_background": "light"
     },
     "output_type": "display_data"
    }
   ],
   "source": [
    "x_labels = ['training videos', 'testing videos']\n",
    "y_labesl = [len(train_data_file_names), len(test_data_file_names)]\n",
    "plt.bar(x_labels, y_labesl)\n",
    "plt.show()"
   ]
  },
  {
   "cell_type": "markdown",
   "metadata": {},
   "source": [
    "## Get most informative joints of each action"
   ]
  },
  {
   "cell_type": "code",
   "execution_count": 7,
   "metadata": {},
   "outputs": [],
   "source": [
    "def get_most_informative_joints(filenames):\n",
    "    # Notice that filenames shoube be sorted before fitting into this method\n",
    "    # For training phase\n",
    "    noFramesList = []\n",
    "    d1 = {'a0' + str(i) : [] for i in range(1,10)}\n",
    "    d2 = {'a' + str(i) : [] for i in range(10, 21)}\n",
    "    mostInformativeJointsList = dict(chain.from_iterable(d.items() for d in (d1,d2)))\n",
    "    for i in range(len(filenames)):\n",
    "        with open('data/' + filenames[i], 'r') as f:\n",
    "            skeleton_i_th = [line.rstrip('\\n') for line in f]\n",
    "        for j in range(len(skeleton_i_th)):\n",
    "            skeleton_i_th[j] = [float(coord) for coord in skeleton_i_th[j].split(' ')]\n",
    "        skeleton_i_th = np.asarray(skeleton_i_th)\n",
    "        noFrames = int(skeleton_i_th.shape[0]/setting.NUMBER_OF_JOINTS)\n",
    "        x = skeleton_i_th[:,0]\n",
    "        y = skeleton_i_th[:,1]\n",
    "        z = skeleton_i_th[:,2]\n",
    "        x = x.reshape(setting.NUMBER_OF_JOINTS, int(skeleton_i_th.shape[0]/setting.NUMBER_OF_JOINTS))\n",
    "        y = y.reshape(setting.NUMBER_OF_JOINTS, int(skeleton_i_th.shape[0]/setting.NUMBER_OF_JOINTS))\n",
    "        z = z.reshape(setting.NUMBER_OF_JOINTS, int(skeleton_i_th.shape[0]/setting.NUMBER_OF_JOINTS))\n",
    "        t = np.arange(1, noFrames+1)\n",
    "        noFramesList.append(noFrames)\n",
    "        listIdxMostJoints = getMostJoints(x.T,y.T,z.T,1,setting.NUMBER_OF_JOINTS)\n",
    "        mostInformativeJointsList[filenames[i][0:3]].append(listIdxMostJoints)\n",
    "    return noFramesList, mostInformativeJointsList"
   ]
  },
  {
   "cell_type": "code",
   "execution_count": 8,
   "metadata": {},
   "outputs": [],
   "source": [
    "# sorted list of filenames \n",
    "train_data_file_names = sorted(train_data_file_names)\n",
    "test_data_file_names = sorted(test_data_file_names)"
   ]
  },
  {
   "cell_type": "code",
   "execution_count": 9,
   "metadata": {},
   "outputs": [],
   "source": [
    "train_noFrameList, train_mostInformativeJointsList = get_most_informative_joints(train_data_file_names)"
   ]
  },
  {
   "cell_type": "markdown",
   "metadata": {},
   "source": [
    "## Create histograms to present apperance of joints for each action"
   ]
  },
  {
   "cell_type": "code",
   "execution_count": 10,
   "metadata": {},
   "outputs": [],
   "source": [
    "def plot_histograms(action_label):\n",
    "    action = train_mostInformativeJointsList[action_label]\n",
    "    Ns_4 = [0 for i in range(20)]\n",
    "    Ns_8 = [0 for i in range(20)]\n",
    "    Ns_12 = [0 for i in range(20)]\n",
    "    \n",
    "    for i in range(len(action)):\n",
    "        for j in range(0, 12):\n",
    "            if j < 4:\n",
    "                Ns_4[action[i][j]-1] += 1\n",
    "            if j < 8:\n",
    "                Ns_8[action[i][j]-1] += 1\n",
    "            if j < 12:\n",
    "                Ns_12[action[i][j]-1] += 1\n",
    "    x_labels = [i for i in range(1,21)]\n",
    "    fig, ax = plt.subplots(figsize=(10,6))\n",
    "    ind = np.arange(20)\n",
    "    width = 0.35\n",
    "    p1 = ax.bar(ind, Ns_4, width, color='indianred')\n",
    "    p2 = ax.bar(ind+width, Ns_8, width, color='dimgray')\n",
    "    p3 = ax.bar(ind+width*2, Ns_12, width, color='lightseagreen')\n",
    "    ax.set_title('Joint apperances of action' + action_label)\n",
    "    ax.set_xticks(ind+width/2)\n",
    "    ax.set_xticklabels(x_labels)\n",
    "    ax.legend((p1[0], p2[0], p3[0]), ('Ns_4', 'Ns_8', 'Ns_12'))\n",
    "    ax.autoscale_view()\n",
    "    plt.show()\n",
    "    return Ns_4, Ns_8, Ns_12"
   ]
  },
  {
   "cell_type": "code",
   "execution_count": 11,
   "metadata": {},
   "outputs": [
    {
     "data": {
      "image/png": "[encoded data removed]",
      "text/plain": [
       "<Figure size 720x432 with 1 Axes>"
      ]
     },
     "metadata": {
      "needs_background": "light"
     },
     "output_type": "display_data"
    },
    {
     "data": {
      "text/plain": [
       "([0, 0, 0, 0, 0, 1, 7, 5, 4, 6, 5, 9, 6, 6, 6, 4, 0, 1, 0, 0],\n",
       " [0, 0, 1, 1, 3, 4, 8, 10, 8, 12, 10, 13, 13, 13, 12, 7, 3, 2, 0, 0],\n",
       " [2, 0, 3, 7, 9, 11, 11, 13, 12, 14, 13, 15, 15, 14, 15, 12, 7, 4, 3, 0])"
      ]
     },
     "execution_count": 11,
     "metadata": {},
     "output_type": "execute_result"
    }
   ],
   "source": [
    "plot_histograms('a01')"
   ]
  },
  {
   "cell_type": "code",
   "execution_count": 12,
   "metadata": {},
   "outputs": [
    {
     "data": {
      "image/png": "[encoded data removed]",
      "text/plain": [
       "<Figure size 720x432 with 1 Axes>"
      ]
     },
     "metadata": {
      "needs_background": "light"
     },
     "output_type": "display_data"
    },
    {
     "data": {
      "text/plain": [
       "([0, 0, 0, 1, 0, 0, 3, 7, 5, 8, 10, 9, 6, 4, 5, 2, 0, 0, 0, 0],\n",
       " [0, 2, 1, 4, 5, 5, 6, 10, 14, 11, 14, 13, 9, 7, 9, 4, 3, 2, 1, 0],\n",
       " [5, 4, 2, 5, 10, 10, 11, 12, 15, 13, 15, 14, 14, 11, 12, 8, 7, 7, 5, 0])"
      ]
     },
     "execution_count": 12,
     "metadata": {},
     "output_type": "execute_result"
    }
   ],
   "source": [
    "plot_histograms('a06')"
   ]
  },
  {
   "cell_type": "code",
   "execution_count": 13,
   "metadata": {},
   "outputs": [
    {
     "data": {
      "image/png": "[encoded data removed]",
      "text/plain": [
       "<Figure size 720x432 with 1 Axes>"
      ]
     },
     "metadata": {
      "needs_background": "light"
     },
     "output_type": "display_data"
    },
    {
     "data": {
      "text/plain": [
       "([0, 0, 0, 0, 1, 0, 0, 2, 1, 4, 5, 8, 9, 9, 11, 5, 1, 3, 1, 0],\n",
       " [6, 2, 0, 0, 2, 1, 1, 5, 4, 5, 9, 11, 13, 13, 12, 7, 9, 11, 8, 1],\n",
       " [12, 7, 2, 2, 3, 2, 4, 7, 8, 7, 12, 13, 14, 14, 13, 14, 13, 15, 14, 4])"
      ]
     },
     "execution_count": 13,
     "metadata": {},
     "output_type": "execute_result"
    }
   ],
   "source": [
    "plot_histograms('a20')"
   ]
  },
  {
   "cell_type": "code",
   "execution_count": 14,
   "metadata": {},
   "outputs": [
    {
     "data": {
      "image/png": "[encoded data removed]",
      "text/plain": [
       "<Figure size 720x432 with 1 Axes>"
      ]
     },
     "metadata": {
      "needs_background": "light"
     },
     "output_type": "display_data"
    },
    {
     "data": {
      "text/plain": [
       "([0, 6, 3, 2, 9, 2, 4, 1, 3, 1, 1, 2, 2, 3, 4, 4, 4, 2, 7, 0],\n",
       " [7, 8, 7, 5, 11, 4, 9, 4, 6, 2, 5, 6, 6, 7, 5, 8, 7, 2, 9, 2],\n",
       " [9, 10, 10, 9, 14, 10, 10, 7, 6, 3, 6, 6, 7, 12, 8, 12, 13, 9, 14, 5])"
      ]
     },
     "execution_count": 14,
     "metadata": {},
     "output_type": "execute_result"
    }
   ],
   "source": [
    "plot_histograms('a14')"
   ]
  },
  {
   "cell_type": "code",
   "execution_count": 15,
   "metadata": {},
   "outputs": [
    {
     "data": {
      "image/png": "[encoded data removed]",
      "text/plain": [
       "<Figure size 720x432 with 1 Axes>"
      ]
     },
     "metadata": {
      "needs_background": "light"
     },
     "output_type": "display_data"
    },
    {
     "data": {
      "text/plain": [
       "([2, 1, 1, 4, 4, 3, 3, 6, 8, 3, 4, 4, 0, 3, 4, 1, 3, 1, 3, 2],\n",
       " [7, 2, 5, 8, 7, 4, 4, 10, 8, 9, 6, 6, 1, 9, 5, 4, 6, 5, 9, 5],\n",
       " [10, 7, 5, 10, 10, 9, 7, 11, 9, 9, 10, 10, 6, 10, 8, 6, 12, 10, 14, 7])"
      ]
     },
     "execution_count": 15,
     "metadata": {},
     "output_type": "execute_result"
    }
   ],
   "source": [
    "plot_histograms('a16')"
   ]
  },
  {
   "cell_type": "code",
   "execution_count": 16,
   "metadata": {},
   "outputs": [],
   "source": [
    "def sort_and_keep_indexes(Ns, numOfJoints):\n",
    "    Ns = sorted(range(len(Ns)), key = Ns.__getitem__)\n",
    "    Ns = Ns[len(Ns)-numOfJoints:]\n",
    "    return Ns"
   ]
  },
  {
   "cell_type": "code",
   "execution_count": 17,
   "metadata": {},
   "outputs": [],
   "source": [
    "# Similar method but it only gets indexes\n",
    "def get_idx_mostJoints_for_each_action(action_label):\n",
    "    action = train_mostInformativeJointsList[action_label]\n",
    "    Ns_4 = [0 for i in range(20)]\n",
    "    Ns_8 = [0 for i in range(20)]\n",
    "    Ns_12 = [0 for i in range(20)]\n",
    "\n",
    "    for i in range(len(action)):\n",
    "        for j in range(0, 12):\n",
    "            if j < 4:\n",
    "                Ns_4[action[i][j] - 1] += 1\n",
    "            if j < 8:\n",
    "                Ns_8[action[i][j] - 1] += 1\n",
    "            if j < 12:\n",
    "                Ns_12[action[i][j] - 1] += 1\n",
    "    Ns_4 = np.asarray(sort_and_keep_indexes(Ns_4, 4))\n",
    "    Ns_8 = np.asarray(sort_and_keep_indexes(Ns_8, 8))\n",
    "    Ns_12 = np.asarray(sort_and_keep_indexes(Ns_12, 12))\n",
    "    return Ns_4, Ns_8, Ns_12"
   ]
  },
  {
   "cell_type": "markdown",
   "metadata": {},
   "source": [
    "## For 4 most informative joints / Trash code/ Done"
   ]
  },
  {
   "cell_type": "code",
   "execution_count": 18,
   "metadata": {},
   "outputs": [],
   "source": [
    "# Get action labels\n",
    "# Hold this code here\n",
    "# For Ns_4 only\n",
    "action_label_list = list(train_mostInformativeJointsList.keys())\n",
    "Ns4_list = np.zeros((len(action_label_list), 4), dtype=np.int)\n",
    "for i in range(Ns4_list.shape[0]):\n",
    "    Ns_4, _, _ = get_idx_mostJoints_for_each_action(action_label_list[i])\n",
    "    Ns4_list[i] = Ns_4"
   ]
  },
  {
   "cell_type": "code",
   "execution_count": 19,
   "metadata": {},
   "outputs": [],
   "source": [
    "def get_MIJ_matrices(filename):\n",
    "    \n",
    "    action_label = int(filename[1:3])-1\n",
    "    \n",
    "    with open('data/' + filename, 'r') as f:\n",
    "        skeleton_matrix = [line.rstrip('\\n') for line in f]\n",
    "    for j in range(len(skeleton_matrix)):\n",
    "        skeleton_matrix[j] = [float(coord) for coord in skeleton_matrix[j].split(' ')]\n",
    "    \n",
    "    skeleton_matrix = np.asarray(skeleton_matrix)\n",
    "    noFrames = int(skeleton_matrix.shape[0]/setting.NUMBER_OF_JOINTS)\n",
    "    x = skeleton_matrix[:,0]\n",
    "    y = skeleton_matrix[:,1]\n",
    "    z = skeleton_matrix[:,2]\n",
    "\n",
    "    x = x.reshape(setting.NUMBER_OF_JOINTS, int(skeleton_matrix.shape[0]/setting.NUMBER_OF_JOINTS))\n",
    "    y = y.reshape(setting.NUMBER_OF_JOINTS, int(skeleton_matrix.shape[0]/setting.NUMBER_OF_JOINTS))\n",
    "    z = z.reshape(setting.NUMBER_OF_JOINTS, int(skeleton_matrix.shape[0]/setting.NUMBER_OF_JOINTS))\n",
    "    t = np.arange(1, noFrames+1).T\n",
    "    x = x[Ns4_list[action_label]]\n",
    "    y = y[Ns4_list[action_label]]\n",
    "    z = z[Ns4_list[action_label]]\n",
    "    return x,y,z,t"
   ]
  },
  {
   "cell_type": "code",
   "execution_count": 20,
   "metadata": {},
   "outputs": [],
   "source": [
    "def calculateCovarianceMat(X, Y, Z, T, nLevels, overlap = False, timeVar=True):\n",
    "    nFrames = X.shape[0]\n",
    "    nJoins = X.shape[1]\n",
    "    assert Y.shape[0] == nFrames\n",
    "    assert Z.shape[0] == nFrames\n",
    "    assert T.shape[0] == nFrames\n",
    "    assert Y.shape[1] == nJoins\n",
    "    assert Z.shape[1] == nJoins\n",
    "\n",
    "    # Normalize skeleton coordinators\n",
    "\n",
    "    normX = normCord(X)\n",
    "    normY = normCord(Y)\n",
    "    normZ = normCord(Z)\n",
    "    normT = normSeT(T)\n",
    "\n",
    "    # Create a list of full covariance matrices\n",
    "    fullCovMats = [[] for i in range(nLevels)]\n",
    "    covMats = [[] for i in range(nLevels)]\n",
    "\n",
    "    if timeVar:\n",
    "        sizeMatrix = nJoins*3+1\n",
    "    else:\n",
    "        sizeMatrix = nJoins*3\n",
    "\n",
    "    listIdxMatrix = getValueMatrix(sizeMatrix) # get half of covariance matrix indexes\n",
    "\n",
    "\n",
    "    for l in range(1,nLevels+1):\n",
    "        # Compute covariance matrixes for each level\n",
    "        nofMats = 2**(l-1)\n",
    "        sizeWindow = 1/nofMats\n",
    "        stepWindow = sizeWindow\n",
    "        if overlap:\n",
    "            stepWindow = stepWindow/2\n",
    "            nofMats = nofMats*2-1\n",
    "        startFrameTimes = [stepWindow*i for i in range(nofMats)]\n",
    "        fullCovMats[l-1] = [[] for i in range(nofMats)]\n",
    "        covMats[l-1] = [[] for i in range(nofMats)]\n",
    "        for i in range(len(startFrameTimes)):\n",
    "            startTime = startFrameTimes[i]\n",
    "            endTime = startFrameTimes[i] + sizeWindow + 2*np.finfo(float).eps\n",
    "            sliceInds = [i for i in range(T.shape[0]) if normT[i] >= startTime and normT[i] < endTime]\n",
    "            sliceX = normX[sliceInds, :]\n",
    "            sliceY = normY[sliceInds, :]\n",
    "            sliceZ = normZ[sliceInds, :]\n",
    "            sliceT = normT[sliceInds]\n",
    "            if not timeVar:\n",
    "                sliceVars = np.concatenate((np.concatenate((sliceX,sliceY), axis=1), sliceZ), axis=1)\n",
    "            else:\n",
    "                sliceVars = np.concatenate((np.concatenate((sliceX, sliceY), axis=1), np.concatenate((sliceZ, sliceT), axis=1)), axis=1)\n",
    "            covarianceMat = np.cov(sliceVars.T)\n",
    "            fullCovMats[l-1][i] = covarianceMat\n",
    "            # Get half of covarianceMat and save it as a vector (1-D matrix)\n",
    "            one_half_vector = []\n",
    "            mask = np.zeros_like(covarianceMat, dtype=np.bool)\n",
    "            mask[np.triu_indices_from(mask)] = True\n",
    "            for row in range(covarianceMat.shape[0]):\n",
    "                for column in range(covarianceMat.shape[0]):\n",
    "                    if mask[row][column] == True:\n",
    "                        one_half_vector.append(covarianceMat[row][column])\n",
    "            covMats[l-1][i] = np.asarray(one_half_vector)\n",
    "        covMats[l-1] = np.asarray(covMats[l-1])\n",
    "        \n",
    "    covMats = np.asarray(covMats)\n",
    "    vec = np.empty(0)\n",
    "    for i in range(covMats.shape[0]):\n",
    "        for j in range(covMats[i].shape[0]):\n",
    "            vec = np.hstack((vec, covMats[i][j]))\n",
    "    return fullCovMats, vec"
   ]
  },
  {
   "cell_type": "markdown",
   "metadata": {},
   "source": [
    "## Now the training part is coming"
   ]
  },
  {
   "cell_type": "code",
   "execution_count": 80,
   "metadata": {},
   "outputs": [],
   "source": [
    "def get_covariance_vector(x,y,z,t):\n",
    "    fullCovmat, vec_covMat = calculateCovarianceMat(x.T, y.T, z.T, t, nLevels=3, overlap=True, timeVar=False)\n",
    "    return vec_covMat"
   ]
  },
  {
   "cell_type": "code",
   "execution_count": 81,
   "metadata": {},
   "outputs": [],
   "source": [
    "def make_preprocessed_training_data(filenames):\n",
    "    X_train, y_train = [], []\n",
    "    for i in range(len(filenames)):\n",
    "        x, y, z, t = get_MIJ_matrices(filenames[i])\n",
    "        vec_covMat = get_covariance_vector(x,y,z,t)\n",
    "        label = int(filenames[i][1:3])\n",
    "        X_train.append(vec_covMat)\n",
    "        y_train.append(label)\n",
    "    X_train = np.asarray(X_train)\n",
    "    y_train = np.asarray(y_train)\n",
    "    return X_train, y_train"
   ]
  },
  {
   "cell_type": "code",
   "execution_count": 55,
   "metadata": {},
   "outputs": [],
   "source": [
    "X_train, y_train = make_preprocessed_training_data(train_data_file_names)"
   ]
  },
  {
   "cell_type": "code",
   "execution_count": 56,
   "metadata": {},
   "outputs": [],
   "source": [
    "model = OneVsRestClassifier(LinearSVC(random_state=0)).fit(X_train, y_train)"
   ]
  },
  {
   "cell_type": "code",
   "execution_count": 57,
   "metadata": {},
   "outputs": [],
   "source": [
    "X_test, y_test = make_preprocessed_training_data(test_data_file_names)"
   ]
  },
  {
   "cell_type": "code",
   "execution_count": 58,
   "metadata": {},
   "outputs": [],
   "source": [
    "y_hat = model.predict(X_test)"
   ]
  },
  {
   "cell_type": "code",
   "execution_count": 59,
   "metadata": {},
   "outputs": [],
   "source": [
    "def get_acc(y_test, y_hat):\n",
    "    count = 0\n",
    "    for i in range(y_test.shape[0]):\n",
    "        if y_test[i] == y_hat[i]:\n",
    "            count += 1\n",
    "    acc = (count/y_test.shape[0])*100\n",
    "    return acc"
   ]
  },
  {
   "cell_type": "code",
   "execution_count": 60,
   "metadata": {},
   "outputs": [
    {
     "name": "stdout",
     "output_type": "stream",
     "text": [
      "46.666666666666664\n"
     ]
    }
   ],
   "source": [
    "print(get_acc(y_test, y_hat))"
   ]
  },
  {
   "cell_type": "code",
   "execution_count": null,
   "metadata": {},
   "outputs": [],
   "source": [
    "def get_nan(X):\n",
    "    Nan = np.isnan(X)\n",
    "    for i in range(Nan.shape[0]):\n",
    "        for j in range(Nan.shape[1]):\n",
    "            if Nan[i][j] == True:\n",
    "                print(i,j)"
   ]
  },
  {
   "cell_type": "markdown",
   "metadata": {},
   "source": [
    "## For action set 3"
   ]
  },
  {
   "cell_type": "code",
   "execution_count": 114,
   "metadata": {},
   "outputs": [],
   "source": [
    "with open(ACTION_SETS_PATH + 'ActionSet3.txt', 'r') as f:\n",
    "    as1_names = f.readlines()"
   ]
  },
  {
   "cell_type": "code",
   "execution_count": 115,
   "metadata": {},
   "outputs": [],
   "source": [
    "for i in range(len(as1_names)):\n",
    "    as1_names[i] = as1_names[i].rstrip(\"\\n\")"
   ]
  },
  {
   "cell_type": "code",
   "execution_count": 116,
   "metadata": {},
   "outputs": [],
   "source": [
    "train_as1_names = [as1_names[i] for i in range(len(as1_names)) if as1_names[i][4:7] in TRAINING_SUBJECTS]"
   ]
  },
  {
   "cell_type": "code",
   "execution_count": 117,
   "metadata": {},
   "outputs": [],
   "source": [
    "test_as1_names = [as1_names[i] for i in range(len(as1_names)) if as1_names[i][4:7] in TESTING_SUBJECTS]"
   ]
  },
  {
   "cell_type": "code",
   "execution_count": 118,
   "metadata": {},
   "outputs": [],
   "source": [
    "train_as1_names = [train_as1_names[i] + '_skeleton3D.txt' for i in range(len(train_as1_names))]\n",
    "test_as1_names = [test_as1_names[i] + '_skeleton3D.txt' for i in range(len(test_as1_names))]"
   ]
  },
  {
   "cell_type": "code",
   "execution_count": 119,
   "metadata": {},
   "outputs": [],
   "source": [
    "train_as1_noFrameList, train_as1_mostInformativeJointsList = get_most_informative_joints(train_as1_names)"
   ]
  },
  {
   "cell_type": "code",
   "execution_count": 120,
   "metadata": {},
   "outputs": [],
   "source": [
    "def plot_histograms(action_label):\n",
    "    action = train_as1_mostInformativeJointsList[action_label]\n",
    "    Ns_4 = [0 for i in range(20)]\n",
    "    Ns_8 = [0 for i in range(20)]\n",
    "    Ns_12 = [0 for i in range(20)]\n",
    "    \n",
    "    for i in range(len(action)):\n",
    "        for j in range(0, 12):\n",
    "            if j < 4:\n",
    "                Ns_4[action[i][j]-1] += 1\n",
    "            if j < 8:\n",
    "                Ns_8[action[i][j]-1] += 1\n",
    "            if j < 12:\n",
    "                Ns_12[action[i][j]-1] += 1\n",
    "    x_labels = [i for i in range(1,21)]\n",
    "    fig, ax = plt.subplots(figsize=(10,6))\n",
    "    ind = np.arange(20)\n",
    "    width = 0.35\n",
    "    p1 = ax.bar(ind, Ns_4, width, color='indianred')\n",
    "    p2 = ax.bar(ind+width, Ns_8, width, color='dimgray')\n",
    "    p3 = ax.bar(ind+width*2, Ns_12, width, color='lightseagreen')\n",
    "    ax.set_title('Joint apperances of action' + action_label)\n",
    "    ax.set_xticks(ind+width/2)\n",
    "    ax.set_xticklabels(x_labels)\n",
    "    ax.legend((p1[0], p2[0], p3[0]), ('Ns_4', 'Ns_8', 'Ns_12'))\n",
    "    ax.autoscale_view()\n",
    "    plt.show()\n",
    "    return Ns_4, Ns_8, Ns_12"
   ]
  },
  {
   "cell_type": "code",
   "execution_count": 126,
   "metadata": {},
   "outputs": [
    {
     "data": {
      "image/png": "[encoded data removed]",
      "text/plain": [
       "<Figure size 720x432 with 1 Axes>"
      ]
     },
     "metadata": {
      "needs_background": "light"
     },
     "output_type": "display_data"
    },
    {
     "data": {
      "text/plain": [
       "([0, 0, 0, 1, 0, 0, 3, 7, 5, 8, 10, 9, 6, 4, 5, 2, 0, 0, 0, 0],\n",
       " [0, 2, 1, 4, 5, 5, 6, 10, 14, 11, 14, 13, 9, 7, 9, 4, 3, 2, 1, 0],\n",
       " [5, 4, 2, 5, 10, 10, 11, 12, 15, 13, 15, 14, 14, 11, 12, 8, 7, 7, 5, 0])"
      ]
     },
     "execution_count": 126,
     "metadata": {},
     "output_type": "execute_result"
    }
   ],
   "source": [
    "plot_histograms('a06')"
   ]
  },
  {
   "cell_type": "code",
   "execution_count": 98,
   "metadata": {},
   "outputs": [],
   "source": [
    "# Get action labels\n",
    "# Hold this code here\n",
    "# For Ns_4 only\n",
    "def get_idx_mostJoints_for_each_action_as1(action_label):\n",
    "    action = train_as1_mostInformativeJointsList[action_label]\n",
    "    Ns_4 = [0 for i in range(20)]\n",
    "    Ns_8 = [0 for i in range(20)]\n",
    "    Ns_12 = [0 for i in range(20)]\n",
    "\n",
    "    for i in range(len(action)):\n",
    "        for j in range(0, 12):\n",
    "            if j < 4:\n",
    "                Ns_4[action[i][j] - 1] += 1\n",
    "            if j < 8:\n",
    "                Ns_8[action[i][j] - 1] += 1\n",
    "            if j < 12:\n",
    "                Ns_12[action[i][j] - 1] += 1\n",
    "    Ns_4 = np.asarray(sort_and_keep_indexes(Ns_4, 4))\n",
    "    Ns_8 = np.asarray(sort_and_keep_indexes(Ns_8, 8))\n",
    "    Ns_12 = np.asarray(sort_and_keep_indexes(Ns_12, 12))\n",
    "    return Ns_4, Ns_8, Ns_12\n",
    "\n",
    "action_label_list = list(train_as1_mostInformativeJointsList.keys())\n",
    "Ns4_as1_list = np.zeros((len(action_label_list), 4), dtype=np.int)\n",
    "for i in range(Ns4_as1_list.shape[0]):\n",
    "    Ns_4, _, _ = get_idx_mostJoints_for_each_action_as1(action_label_list[i])\n",
    "    Ns4_as1_list[i] = Ns_4"
   ]
  },
  {
   "cell_type": "code",
   "execution_count": null,
   "metadata": {},
   "outputs": [],
   "source": []
  },
  {
   "cell_type": "code",
   "execution_count": 99,
   "metadata": {},
   "outputs": [
    {
     "data": {
      "text/plain": [
       "array([[16, 17, 18, 19],\n",
       "       [ 9, 11, 10,  8],\n",
       "       [ 8,  5,  7,  6],\n",
       "       [16, 17, 18, 19],\n",
       "       [ 9, 11, 13,  8],\n",
       "       [ 7,  9, 11, 10],\n",
       "       [16, 17, 18, 19],\n",
       "       [16, 17, 18, 19],\n",
       "       [16, 17, 18, 19],\n",
       "       [ 7,  9,  5,  8],\n",
       "       [16, 17, 18, 19],\n",
       "       [16, 17, 18, 19],\n",
       "       [ 2, 17, 15, 18],\n",
       "       [16, 17, 18, 19],\n",
       "       [16, 17, 18, 19],\n",
       "       [16, 17, 18, 19],\n",
       "       [16, 17, 18, 19],\n",
       "       [11,  9,  7,  8],\n",
       "       [16, 17, 18, 19],\n",
       "       [11, 12, 13, 14]])"
      ]
     },
     "execution_count": 99,
     "metadata": {},
     "output_type": "execute_result"
    }
   ],
   "source": [
    "Ns4_as1_list"
   ]
  },
  {
   "cell_type": "code",
   "execution_count": 100,
   "metadata": {},
   "outputs": [],
   "source": [
    "def get_MIJ_matrices(filename):\n",
    "    \n",
    "    action_label = int(filename[1:3])-1\n",
    "    \n",
    "    with open('data/' + filename, 'r') as f:\n",
    "        skeleton_matrix = [line.rstrip('\\n') for line in f]\n",
    "    for j in range(len(skeleton_matrix)):\n",
    "        skeleton_matrix[j] = [float(coord) for coord in skeleton_matrix[j].split(' ')]\n",
    "    \n",
    "    skeleton_matrix = np.asarray(skeleton_matrix)\n",
    "    noFrames = int(skeleton_matrix.shape[0]/setting.NUMBER_OF_JOINTS)\n",
    "    x = skeleton_matrix[:,0]\n",
    "    y = skeleton_matrix[:,1]\n",
    "    z = skeleton_matrix[:,2]\n",
    "\n",
    "    x = x.reshape(setting.NUMBER_OF_JOINTS, int(skeleton_matrix.shape[0]/setting.NUMBER_OF_JOINTS))\n",
    "    y = y.reshape(setting.NUMBER_OF_JOINTS, int(skeleton_matrix.shape[0]/setting.NUMBER_OF_JOINTS))\n",
    "    z = z.reshape(setting.NUMBER_OF_JOINTS, int(skeleton_matrix.shape[0]/setting.NUMBER_OF_JOINTS))\n",
    "    t = np.arange(1, noFrames+1).T\n",
    "    x = x[Ns4_as1_list[action_label]]\n",
    "    y = y[Ns4_as1_list[action_label]]\n",
    "    z = z[Ns4_as1_list[action_label]]\n",
    "    return x,y,z,t"
   ]
  },
  {
   "cell_type": "code",
   "execution_count": 101,
   "metadata": {},
   "outputs": [],
   "source": [
    "X_as1_train, y_as1_train = make_preprocessed_training_data(train_as1_names)\n",
    "X_as1_test, y_as1_test = make_preprocessed_training_data(test_as1_names)"
   ]
  },
  {
   "cell_type": "code",
   "execution_count": 102,
   "metadata": {},
   "outputs": [],
   "source": [
    "model = OneVsRestClassifier(LinearSVC(random_state=0)).fit(X_as1_train, y_as1_train)"
   ]
  },
  {
   "cell_type": "code",
   "execution_count": 103,
   "metadata": {},
   "outputs": [],
   "source": [
    "y_as1_hat = model.predict(X_as1_test)"
   ]
  },
  {
   "cell_type": "code",
   "execution_count": 104,
   "metadata": {},
   "outputs": [
    {
     "name": "stdout",
     "output_type": "stream",
     "text": [
      "52.17391304347826\n"
     ]
    }
   ],
   "source": [
    "print(get_acc(y_as1_test, y_as1_hat))"
   ]
  },
  {
   "cell_type": "code",
   "execution_count": 96,
   "metadata": {},
   "outputs": [
    {
     "data": {
      "text/plain": [
       "array([[13, 14,  6, 11],\n",
       "       [13, 15, 10,  8],\n",
       "       [ 8,  5,  7,  6],\n",
       "       [ 7, 10,  8,  9],\n",
       "       [ 9, 11, 13,  8],\n",
       "       [ 7,  9, 11, 10],\n",
       "       [ 6,  4,  5, 11],\n",
       "       [14, 13, 12, 11],\n",
       "       [10,  9, 11,  7],\n",
       "       [ 7,  9,  5,  8],\n",
       "       [ 8,  9, 12, 10],\n",
       "       [ 7,  8, 12, 11],\n",
       "       [ 1, 15,  2, 18],\n",
       "       [16,  1, 18,  4],\n",
       "       [12, 18,  9,  8],\n",
       "       [11, 14,  7,  8],\n",
       "       [12, 15, 10, 14],\n",
       "       [11,  9,  7,  8],\n",
       "       [14, 13, 15, 12],\n",
       "       [11, 12, 13, 14]])"
      ]
     },
     "execution_count": 96,
     "metadata": {},
     "output_type": "execute_result"
    }
   ],
   "source": [
    "Ns4_as1_list"
   ]
  },
  {
   "cell_type": "code",
   "execution_count": 97,
   "metadata": {},
   "outputs": [
    {
     "data": {
      "text/plain": [
       "array([[13, 14,  6, 11],\n",
       "       [13, 15, 10,  8],\n",
       "       [ 8,  5,  7,  6],\n",
       "       [ 7, 10,  8,  9],\n",
       "       [ 9, 11, 13,  8],\n",
       "       [ 7,  9, 11, 10],\n",
       "       [ 6,  4,  5, 11],\n",
       "       [14, 13, 12, 11],\n",
       "       [10,  9, 11,  7],\n",
       "       [ 7,  9,  5,  8],\n",
       "       [ 8,  9, 12, 10],\n",
       "       [ 7,  8, 12, 11],\n",
       "       [ 1, 15,  2, 18],\n",
       "       [16,  1, 18,  4],\n",
       "       [12, 18,  9,  8],\n",
       "       [11, 14,  7,  8],\n",
       "       [12, 15, 10, 14],\n",
       "       [11,  9,  7,  8],\n",
       "       [14, 13, 15, 12],\n",
       "       [11, 12, 13, 14]])"
      ]
     },
     "execution_count": 97,
     "metadata": {},
     "output_type": "execute_result"
    }
   ],
   "source": [
    "Ns4_list"
   ]
  },
  {
   "cell_type": "code",
   "execution_count": null,
   "metadata": {},
   "outputs": [],
   "source": []
  }
 ],
 "metadata": {
  "kernelspec": {
   "display_name": "Python 3",
   "language": "python",
   "name": "python3"
  },
  "language_info": {
   "codemirror_mode": {
    "name": "ipython",
    "version": 3
   },
   "file_extension": ".py",
   "mimetype": "text/x-python",
   "name": "python",
   "nbconvert_exporter": "python",
   "pygments_lexer": "ipython3",
   "version": "3.6.7"
  }
 },
 "nbformat": 4,
 "nbformat_minor": 2
}
