{
 "cells": [
  {
   "cell_type": "code",
   "execution_count": 1,
   "metadata": {},
   "outputs": [],
   "source": [
    "import numpy as np\n",
    "import pandas as pd\n",
    "import matplotlib.pyplot as plt\n",
    "import seaborn as sns\n",
    "from norm import *\n",
    "from utils import *\n",
    "from MostJoints.getMostInformativeJoints import *\n",
    "import os\n",
    "from itertools import chain\n",
    "import setting\n",
    "\n",
    "from sklearn.multiclass import OneVsRestClassifier\n",
    "from sklearn.svm import LinearSVC\n",
    "%matplotlib inline"
   ]
  },
  {
   "cell_type": "code",
   "execution_count": 2,
   "metadata": {},
   "outputs": [],
   "source": [
    "Ns4_as2_list = np.array([[9,11,13,2],\n",
    "[0,0,0,0],\n",
    "[0,0,0,0],\n",
    "[9,11,13,20],\n",
    "[0,0,0,0],\n",
    "[0,0,0,0],\n",
    "[9,11,13,2],\n",
    "[9,11,13,2],\n",
    "[9,11,13,2],\n",
    "[0,0,0,0],\n",
    "[10,11,12,13],\n",
    "[11,13,12,9],\n",
    "[0,0,0,0],\n",
    "[17,19,15,12],\n",
    "[0,0,0,0],\n",
    "[0,0,0,0],\n",
    "[0,0,0,0],\n",
    "[0,0,0,0],\n",
    "[0,0,0,0],\n",
    "[0,0,0,0]])"
   ]
  },
  {
   "cell_type": "code",
   "execution_count": 3,
   "metadata": {},
   "outputs": [],
   "source": [
    "Ns4_as2_list = Ns4_as2_list-1"
   ]
  },
  {
   "cell_type": "code",
   "execution_count": 4,
   "metadata": {},
   "outputs": [],
   "source": [
    "DATA_PATH = 'data/'\n",
    "ACTION_SETS_PATH = 'actionsets/'\n",
    "ACTION_SETS  = ['actionsets/ActionSet1.txt', 'actionsets/ActionSet2.txt', 'actionsets/ActionSet3.txt']\n",
    "ACTION_NAMES = ['Wave','Hammer','Smash','Catch','Forward Punch','Throw','Draw X','Draw Tick','Draw ',\n",
    "               'Circle','Clapping Hand','Two hand Wave','Side Boxing','Bend','Forward Kick','Side Kick','Jogging',\n",
    "               'Tennis Swing','Tennis Serve','Golf Swing','Pickup&throw']\n",
    "TRAINING_SUBJECTS = ['s01','s03','s05','s07','s09']\n",
    "TESTING_SUBJECTS = ['s02','s04','s06','s08','s10']\n",
    "\n",
    "with open(ACTION_SETS_PATH + 'ActionSet2.txt', 'r') as f:\n",
    "    as3_names = f.readlines()\n",
    "for i in range(len(as3_names)):\n",
    "    as3_names[i] = as3_names[i].rstrip(\"\\n\")"
   ]
  },
  {
   "cell_type": "code",
   "execution_count": null,
   "metadata": {},
   "outputs": [],
   "source": [
    "train_as3_names = [as3_names[i] for i in range(len(as3_names)) if as3_names[i][4:7] in TRAINING_SUBJECTS]\n",
    "test_as3_names = [as3_names[i] for i in range(len(as3_names)) if as3_names[i][4:7] in TESTING_SUBJECTS]\n",
    "train_as3_names = [train_as3_names[i] + '_skeleton3D.txt' for i in range(len(train_as3_names))]\n",
    "test_as3_names = [test_as3_names[i] + '_skeleton3D.txt' for i in range(len(test_as3_names))]\n",
    "as3_names = [as3_names[i] + '_skeleton3D.txt' for i in range(len(as3_names))]\n",
    "train_as3_names = sorted(train_as3_names)\n",
    "test_as3_names = sorted(test_as3_names)\n",
    "as3_names = sorted(as3_names)"
   ]
  }
 ],
 "metadata": {
  "kernelspec": {
   "display_name": "Python 3",
   "language": "python",
   "name": "python3"
  },
  "language_info": {
   "codemirror_mode": {
    "name": "ipython",
    "version": 3
   },
   "file_extension": ".py",
   "mimetype": "text/x-python",
   "name": "python",
   "nbconvert_exporter": "python",
   "pygments_lexer": "ipython3",
   "version": "3.6.7"
  }
 },
 "nbformat": 4,
 "nbformat_minor": 2
}
