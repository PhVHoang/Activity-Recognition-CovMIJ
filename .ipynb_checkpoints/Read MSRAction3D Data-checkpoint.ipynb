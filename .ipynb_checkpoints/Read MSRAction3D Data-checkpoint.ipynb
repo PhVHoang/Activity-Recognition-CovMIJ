{
 "cells": [
  {
   "cell_type": "markdown",
   "metadata": {},
   "source": [
    "## Import necessary modules"
   ]
  },
  {
   "cell_type": "code",
   "execution_count": 1,
   "metadata": {},
   "outputs": [],
   "source": [
    "import numpy as np\n",
    "import pandas as pd\n",
    "import matplotlib.pyplot as plt\n",
    "import seaborn as sns\n",
    "%matplotlib inline"
   ]
  },
  {
   "cell_type": "markdown",
   "metadata": {},
   "source": [
    "## Make skeleton coordinators matrix"
   ]
  },
  {
   "cell_type": "code",
   "execution_count": 2,
   "metadata": {},
   "outputs": [],
   "source": [
    "DATA_PATH = 'data/'\n",
    "ACTION_SETS_PATH = 'actionsets/'\n",
    "ACTION_SETS  = ['actionsets/ActionSet1.txt', 'actionsets/ActionSet2.txt', 'actionsets/ActionSet3.txt']\n",
    "ACTION_NAMES = ['Wave','Hammer','Smash','Catch','Forward Punch','Throw','Draw X','Draw Tick','Draw ',\n",
    "               'Circle','Clapping Hand','Two hand Wave','Side Boxing','Bend','Forward Kick','Side Kick','Jogging',\n",
    "               'Tennis Swing','Tennis Serve','Golf Swing','Pickup&throw']"
   ]
  },
  {
   "cell_type": "code",
   "execution_count": 3,
   "metadata": {},
   "outputs": [
    {
     "name": "stdout",
     "output_type": "stream",
     "text": [
      "Number of video files:  570\n"
     ]
    }
   ],
   "source": [
    "import os\n",
    "TRAINING_SUBJECTS = ['s01','s03','s05','s07','s09']\n",
    "TESTING_SUBJECTS = ['s02','s04','s06','s08','s10']\n",
    "data_file_names = os.listdir(DATA_PATH)\n",
    "print(\"Number of video files: \", len(data_file_names))"
   ]
  },
  {
   "cell_type": "code",
   "execution_count": 4,
   "metadata": {},
   "outputs": [],
   "source": [
    "train_data_file_names = [data_file_names[i] for i in range(len(data_file_names)) if data_file_names[i][4:7] in TRAINING_SUBJECTS]\n",
    "test_data_file_names = [data_file_names[i] for i in range(len(data_file_names)) if data_file_names[i][4:7] in TESTING_SUBJECTS]"
   ]
  },
  {
   "cell_type": "code",
   "execution_count": 5,
   "metadata": {},
   "outputs": [
    {
     "name": "stdout",
     "output_type": "stream",
     "text": [
      "Number of training videos:  292\n",
      "Number of testing videos:  275\n"
     ]
    }
   ],
   "source": [
    "print(\"Number of training videos: \", len(train_data_file_names))\n",
    "print(\"Number of testing videos: \", len(test_data_file_names))"
   ]
  },
  {
   "cell_type": "code",
   "execution_count": 6,
   "metadata": {},
   "outputs": [
    {
     "data": {
      "image/png": "[encoded data removed]",
      "text/plain": [
       "<Figure size 432x288 with 1 Axes>"
      ]
     },
     "metadata": {
      "needs_background": "light"
     },
     "output_type": "display_data"
    }
   ],
   "source": [
    "x_labels = ['training videos', 'testing videos']\n",
    "y_labesl = [len(train_data_file_names), len(test_data_file_names)]\n",
    "plt.bar(x_labels, y_labesl)\n",
    "plt.show()"
   ]
  },
  {
   "cell_type": "markdown",
   "metadata": {},
   "source": [
    "## Get most informative joints of each action"
   ]
  },
  {
   "cell_type": "code",
   "execution_count": 7,
   "metadata": {},
   "outputs": [],
   "source": [
    "from MostJoints.getMostInformativeJoints import *\n",
    "import setting"
   ]
  },
  {
   "cell_type": "code",
   "execution_count": 8,
   "metadata": {},
   "outputs": [],
   "source": [
    "# TODO\n",
    "from itertools import chain\n",
    "\n",
    "def get_most_informative_joints(filenames):\n",
    "    # Notice that filenames shoube be sorted before fitting into this method\n",
    "    # For training phase\n",
    "    noFramesList = []\n",
    "    d1 = {'a0' + str(i) : [] for i in range(1,10)}\n",
    "    d2 = {'a' + str(i) : [] for i in range(10, 21)}\n",
    "    mostInformativeJointsList = dict(chain.from_iterable(d.items() for d in (d1,d2)))\n",
    "    for i in range(len(filenames)):\n",
    "        with open('data/' + filenames[i], 'r') as f:\n",
    "            skeleton_i_th = [line.rstrip('\\n') for line in f]\n",
    "        for j in range(len(skeleton_i_th)):\n",
    "            skeleton_i_th[j] = [float(coord) for coord in skeleton_i_th[j].split(' ')]\n",
    "        skeleton_i_th = np.asarray(skeleton_i_th)\n",
    "        noFrames = int(skeleton_i_th.shape[0]/setting.NUMBER_OF_JOINTS)\n",
    "        x = skeleton_i_th[:,0]\n",
    "        y = skeleton_i_th[:,1]\n",
    "        z = skeleton_i_th[:,2]\n",
    "        x = x.reshape(setting.NUMBER_OF_JOINTS, int(skeleton_i_th.shape[0]/setting.NUMBER_OF_JOINTS))\n",
    "        y = y.reshape(setting.NUMBER_OF_JOINTS, int(skeleton_i_th.shape[0]/setting.NUMBER_OF_JOINTS))\n",
    "        z = z.reshape(setting.NUMBER_OF_JOINTS, int(skeleton_i_th.shape[0]/setting.NUMBER_OF_JOINTS))\n",
    "        t = np.arange(1, noFrames+1)\n",
    "        noFramesList.append(noFrames)\n",
    "        listIdxMostJoints = getMostJoints(x.T,y.T,z.T,1,setting.NUMBER_OF_JOINTS)\n",
    "        mostInformativeJointsList[filenames[i][0:3]].append(listIdxMostJoints)\n",
    "    return noFramesList, mostInformativeJointsList\n",
    "        "
   ]
  },
  {
   "cell_type": "code",
   "execution_count": 9,
   "metadata": {},
   "outputs": [],
   "source": [
    "# sorted list of filenames \n",
    "train_data_file_names = sorted(train_data_file_names)\n",
    "test_data_file_names = sorted(test_data_file_names)"
   ]
  },
  {
   "cell_type": "code",
   "execution_count": 10,
   "metadata": {},
   "outputs": [],
   "source": [
    "train_noFrameList, train_mostInformativeJointsList = get_most_informative_joints(train_data_file_names)"
   ]
  },
  {
   "cell_type": "markdown",
   "metadata": {},
   "source": [
    "## Create histograms to present apperance of joints for each action"
   ]
  },
  {
   "cell_type": "code",
   "execution_count": 24,
   "metadata": {},
   "outputs": [],
   "source": [
    "def plot_histograms(action_label):\n",
    "    action = train_mostInformativeJointsList[action_label]\n",
    "    Ns_4 = [0 for i in range(20)]\n",
    "    Ns_8 = [0 for i in range(20)]\n",
    "    Ns_12 = [0 for i in range(20)]\n",
    "    \n",
    "    for i in range(len(action)):\n",
    "        for j in range(0, 12):\n",
    "            if j < 4:\n",
    "                Ns_4[action[i][j]-1] += 1\n",
    "            if j < 8:\n",
    "                Ns_8[action[i][j]-1] += 1\n",
    "            if j < 12:\n",
    "                Ns_12[action[i][j]-1] += 1\n",
    "    x_labels = [i for i in range(1,21)]\n",
    "    fig, ax = plt.subplots(figsize=(10,6))\n",
    "    ind = np.arange(20)\n",
    "    width = 0.35\n",
    "    p1 = ax.bar(ind, Ns_4, width, color='r')\n",
    "    p2 = ax.bar(ind+width, Ns_8, width, color='y')\n",
    "    p3 = ax.bar(ind+width*2, Ns_12, width, color='g')\n",
    "    ax.set_title('Joint apperances of action' + action_label)\n",
    "    ax.set_xticks(ind+width/2)\n",
    "    ax.set_xticklabels(x_labels)\n",
    "    ax.legend((p1[0], p2[0], p3[0]), ('Ns_4', 'Ns_8', 'Ns_12'))\n",
    "    ax.autoscale_view()\n",
    "    plt.show()"
   ]
  },
  {
   "cell_type": "code",
   "execution_count": 25,
   "metadata": {},
   "outputs": [
    {
     "data": {
      "image/png": "[encoded data removed]",
      "text/plain": [
       "<Figure size 720x432 with 1 Axes>"
      ]
     },
     "metadata": {
      "needs_background": "light"
     },
     "output_type": "display_data"
    }
   ],
   "source": [
    "plot_histograms('a01')"
   ]
  },
  {
   "cell_type": "code",
   "execution_count": null,
   "metadata": {},
   "outputs": [],
   "source": []
  }
 ],
 "metadata": {
  "kernelspec": {
   "display_name": "Python 3",
   "language": "python",
   "name": "python3"
  },
  "language_info": {
   "codemirror_mode": {
    "name": "ipython",
    "version": 3
   },
   "file_extension": ".py",
   "mimetype": "text/x-python",
   "name": "python",
   "nbconvert_exporter": "python",
   "pygments_lexer": "ipython3",
   "version": "3.6.7"
  }
 },
 "nbformat": 4,
 "nbformat_minor": 2
}
