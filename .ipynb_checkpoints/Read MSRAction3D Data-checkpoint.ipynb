{
 "cells": [
  {
   "cell_type": "markdown",
   "metadata": {},
   "source": [
    "## Import necessary modules"
   ]
  },
  {
   "cell_type": "code",
   "execution_count": 1,
   "metadata": {},
   "outputs": [],
   "source": [
    "import numpy as np\n",
    "import pandas as pd\n",
    "import matplotlib.pyplot as plt\n",
    "import seaborn as sns\n",
    "%matplotlib inline"
   ]
  },
  {
   "cell_type": "markdown",
   "metadata": {},
   "source": [
    "## Make skeleton coordinators matrix"
   ]
  },
  {
   "cell_type": "code",
   "execution_count": 2,
   "metadata": {},
   "outputs": [],
   "source": [
    "DATA_PATH = 'data/'\n",
    "ACTION_SETS_PATH = 'actionsets/'\n",
    "ACTION_SETS  = ['actionsets/ActionSet1.txt', 'actionsets/ActionSet2.txt', 'actionsets/ActionSet3.txt']\n",
    "ACTION_NAMES = ['Wave','Hammer','Smash','Catch','Forward Punch','Throw','Draw X','Draw Tick','Draw ',\n",
    "               'Circle','Clapping Hand','Two hand Wave','Side Boxing','Bend','Forward Kick','Side Kick','Jogging',\n",
    "               'Tennis Swing','Tennis Serve','Golf Swing','Pickup&throw']"
   ]
  },
  {
   "cell_type": "code",
   "execution_count": 3,
   "metadata": {},
   "outputs": [
    {
     "name": "stdout",
     "output_type": "stream",
     "text": [
      "Number of video files:  570\n"
     ]
    }
   ],
   "source": [
    "import os\n",
    "TRAINING_SUBJECTS = ['s01','s03','s05','s07','s09']\n",
    "TESTING_SUBJECTS = ['s02','s04','s06','s08','s10']\n",
    "data_file_names = os.listdir(DATA_PATH)\n",
    "print(\"Number of video files: \", len(data_file_names))"
   ]
  },
  {
   "cell_type": "code",
   "execution_count": 4,
   "metadata": {},
   "outputs": [],
   "source": [
    "train_data_file_names = [data_file_names[i] for i in range(len(data_file_names)) if data_file_names[i][4:7] in TRAINING_SUBJECTS]\n",
    "test_data_file_names = [data_file_names[i] for i in range(len(data_file_names)) if data_file_names[i][4:7] in TESTING_SUBJECTS]"
   ]
  },
  {
   "cell_type": "code",
   "execution_count": 5,
   "metadata": {},
   "outputs": [
    {
     "name": "stdout",
     "output_type": "stream",
     "text": [
      "Number of training videos:  292\n",
      "Number of testing videos:  275\n"
     ]
    }
   ],
   "source": [
    "print(\"Number of training videos: \", len(train_data_file_names))\n",
    "print(\"Number of testing videos: \", len(test_data_file_names))"
   ]
  },
  {
   "cell_type": "code",
   "execution_count": 6,
   "metadata": {},
   "outputs": [
    {
     "data": {
      "image/png": "[encoded data removed]",
      "text/plain": [
       "<Figure size 432x288 with 1 Axes>"
      ]
     },
     "metadata": {
      "needs_background": "light"
     },
     "output_type": "display_data"
    }
   ],
   "source": [
    "x_labels = ['training videos', 'testing videos']\n",
    "y_labesl = [len(train_data_file_names), len(test_data_file_names)]\n",
    "plt.bar(x_labels, y_labesl)\n",
    "plt.show()"
   ]
  },
  {
   "cell_type": "markdown",
   "metadata": {},
   "source": [
    "## Get most informative joints of each action"
   ]
  },
  {
   "cell_type": "code",
   "execution_count": 7,
   "metadata": {},
   "outputs": [],
   "source": [
    "from MostJoints.getMostInformativeJoints import *\n",
    "import setting"
   ]
  },
  {
   "cell_type": "code",
   "execution_count": 8,
   "metadata": {},
   "outputs": [],
   "source": [
    "# TODO\n",
    "from itertools import chain\n",
    "\n",
    "def get_most_informative_joints(filenames):\n",
    "    # Notice that filenames shoube be sorted before fitting into this method\n",
    "    # For training phase\n",
    "    noFramesList = []\n",
    "    d1 = {'a0' + str(i) : [] for i in range(1,10)}\n",
    "    d2 = {'a' + str(i) : [] for i in range(10, 21)}\n",
    "    mostInformativeJointsList = dict(chain.from_iterable(d.items() for d in (d1,d2)))\n",
    "    for i in range(len(filenames)):\n",
    "        with open('data/' + filenames[i], 'r') as f:\n",
    "            skeleton_i_th = [line.rstrip('\\n') for line in f]\n",
    "        for j in range(len(skeleton_i_th)):\n",
    "            skeleton_i_th[j] = [float(coord) for coord in skeleton_i_th[j].split(' ')]\n",
    "        skeleton_i_th = np.asarray(skeleton_i_th)\n",
    "        noFrames = int(skeleton_i_th.shape[0]/setting.NUMBER_OF_JOINTS)\n",
    "        x = skeleton_i_th[:,0]\n",
    "        y = skeleton_i_th[:,1]\n",
    "        z = skeleton_i_th[:,2]\n",
    "        x = x.reshape(setting.NUMBER_OF_JOINTS, int(skeleton_i_th.shape[0]/setting.NUMBER_OF_JOINTS))\n",
    "        y = y.reshape(setting.NUMBER_OF_JOINTS, int(skeleton_i_th.shape[0]/setting.NUMBER_OF_JOINTS))\n",
    "        z = z.reshape(setting.NUMBER_OF_JOINTS, int(skeleton_i_th.shape[0]/setting.NUMBER_OF_JOINTS))\n",
    "        t = np.arange(1, noFrames+1)\n",
    "        noFramesList.append(noFrames)\n",
    "        listIdxMostJoints = getMostJoints(x.T,y.T,z.T,1,setting.NUMBER_OF_JOINTS)\n",
    "        mostInformativeJointsList[filenames[i][0:3]].append(listIdxMostJoints)\n",
    "    return noFramesList, mostInformativeJointsList\n",
    "        "
   ]
  },
  {
   "cell_type": "code",
   "execution_count": 9,
   "metadata": {},
   "outputs": [],
   "source": [
    "# sorted list of filenames \n",
    "train_data_file_names = sorted(train_data_file_names)\n",
    "test_data_file_names = sorted(test_data_file_names)"
   ]
  },
  {
   "cell_type": "code",
   "execution_count": 10,
   "metadata": {},
   "outputs": [],
   "source": [
    "train_noFrameList, train_mostInformativeJointsList = get_most_informative_joints(train_data_file_names)"
   ]
  },
  {
   "cell_type": "markdown",
   "metadata": {},
   "source": [
    "## Create histograms to present apperance of joints for each action"
   ]
  },
  {
   "cell_type": "code",
   "execution_count": 11,
   "metadata": {},
   "outputs": [],
   "source": [
    "# Let's make some plots with action 01\n",
    "action_01 = train_mostInformativeJointsList['a01']"
   ]
  },
  {
   "cell_type": "code",
   "execution_count": 13,
   "metadata": {},
   "outputs": [
    {
     "data": {
      "text/plain": [
       "[array([15, 18, 12, 14, 16, 17, 13, 11, 19,  5,  1,  8,  2,  9,  4,  6,  7,\n",
       "         3,  0, 10]),\n",
       " array([12, 10, 13, 11,  9, 14, 16, 15, 19, 17, 18,  5,  6,  8,  7,  0,  4,\n",
       "         2,  1,  3]),\n",
       " array([12, 13, 11, 16, 14, 17, 15, 18, 10, 19,  5,  6,  0,  7,  9,  4,  2,\n",
       "         1,  3,  8]),\n",
       " array([15, 11, 14,  7, 10, 13,  8, 12,  9, 16,  3,  6, 19,  0,  4, 17,  5,\n",
       "         2,  1, 18]),\n",
       " array([16,  7, 13, 10,  4, 15,  5,  8, 12,  6,  9, 14, 18, 11,  1, 19, 17,\n",
       "         2,  3,  0]),\n",
       " array([ 7,  8,  6, 12,  9, 13, 11, 14, 10, 15,  5, 16,  4, 17,  3,  2, 18,\n",
       "        19,  1,  0]),\n",
       " array([ 9, 15, 14, 12, 13, 10,  8, 11, 16,  7,  4,  6,  5, 17,  3, 18, 19,\n",
       "         2,  0,  1]),\n",
       " array([15, 14, 12, 16,  9, 13, 10, 11,  8,  7, 17,  4,  6,  5,  3, 19, 18,\n",
       "         2,  0,  1]),\n",
       " array([ 9,  8, 12,  7, 14, 13, 10, 11, 15,  6, 16,  4,  3, 17,  5, 19, 18,\n",
       "         2,  0,  1]),\n",
       " array([ 9, 13,  7, 11, 15,  5, 10, 14,  6, 12,  8, 17, 19,  3,  1, 16,  4,\n",
       "        18,  0,  2]),\n",
       " array([10, 15, 12,  8,  6, 13, 14, 17, 16,  9, 11,  4,  5,  7, 19,  2,  1,\n",
       "        18,  3,  0]),\n",
       " array([ 9, 14,  8, 13, 12,  7, 10, 15, 11,  4,  6,  5, 16, 19, 17,  3, 18,\n",
       "         0,  2,  1]),\n",
       " array([ 7, 11, 10, 15, 14,  6, 12,  8,  9, 13,  3,  5,  4, 19, 16,  0,  2,\n",
       "         1, 18, 17]),\n",
       " array([10,  8, 12, 14,  5,  6,  3, 16, 17, 15,  7, 13,  1,  9, 11, 19,  4,\n",
       "        18,  2,  0]),\n",
       " array([10, 16, 13,  7, 15,  8,  9, 12, 11, 18,  1,  4, 19, 14,  6,  2,  5,\n",
       "        17,  3,  0])]"
      ]
     },
     "execution_count": 13,
     "metadata": {},
     "output_type": "execute_result"
    }
   ],
   "source": [
    "len(action_01)"
   ]
  },
  {
   "cell_type": "code",
   "execution_count": null,
   "metadata": {},
   "outputs": [],
   "source": [
    "Ns_4 = [0 for i in range(20)]\n",
    "Ns_8 = [0 for i in range(20)]\n",
    "Ns_12 = [0 for i in range(20)]\n",
    "for i in range(len(action_01)):\n",
    "    "
   ]
  }
 ],
 "metadata": {
  "kernelspec": {
   "display_name": "Python 3",
   "language": "python",
   "name": "python3"
  },
  "language_info": {
   "codemirror_mode": {
    "name": "ipython",
    "version": 3
   },
   "file_extension": ".py",
   "mimetype": "text/x-python",
   "name": "python",
   "nbconvert_exporter": "python",
   "pygments_lexer": "ipython3",
   "version": "3.6.7"
  }
 },
 "nbformat": 4,
 "nbformat_minor": 2
}
