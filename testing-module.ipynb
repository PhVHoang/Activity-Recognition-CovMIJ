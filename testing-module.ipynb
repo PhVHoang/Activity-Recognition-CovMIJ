{
 "cells": [
  {
   "cell_type": "code",
   "execution_count": 1,
   "metadata": {},
   "outputs": [],
   "source": [
    "import numpy as np"
   ]
  },
  {
   "cell_type": "code",
   "execution_count": 2,
   "metadata": {},
   "outputs": [
    {
     "data": {
      "text/plain": [
       "(43, 240, 320, 3)"
      ]
     },
     "execution_count": 2,
     "metadata": {},
     "output_type": "execute_result"
    }
   ],
   "source": [
    "s = '00001.K.avi.npy'\n",
    "x = np.load(s)\n",
    "x.shape"
   ]
  },
  {
   "cell_type": "code",
   "execution_count": 6,
   "metadata": {},
   "outputs": [],
   "source": [
    "res = []\n",
    "for i in range(1, x.shape[0]):\n",
    "    res.append(np.mean(x[i] - x[0]))"
   ]
  },
  {
   "cell_type": "code",
   "execution_count": 7,
   "metadata": {},
   "outputs": [
    {
     "data": {
      "text/plain": [
       "12.693802083333333"
      ]
     },
     "execution_count": 7,
     "metadata": {},
     "output_type": "execute_result"
    }
   ],
   "source": [
    "min(res)"
   ]
  },
  {
   "cell_type": "code",
   "execution_count": 8,
   "metadata": {},
   "outputs": [
    {
     "data": {
      "text/plain": [
       "[12.693802083333333,\n",
       " 18.5210546875,\n",
       " 20.720559895833333,\n",
       " 21.367916666666666,\n",
       " 22.712486979166666,\n",
       " 24.01348958333333,\n",
       " 36.943111979166666,\n",
       " 45.788125,\n",
       " 45.59063802083333,\n",
       " 34.2577734375,\n",
       " 53.2683984375,\n",
       " 28.496901041666668,\n",
       " 30.44953125,\n",
       " 30.7999609375,\n",
       " 38.48091145833333,\n",
       " 32.19579427083333,\n",
       " 42.0394921875,\n",
       " 35.7805078125,\n",
       " 53.7676171875,\n",
       " 54.10657552083333,\n",
       " 55.514270833333335,\n",
       " 37.84811197916667,\n",
       " 46.7851171875,\n",
       " 26.374127604166667,\n",
       " 44.308033854166666,\n",
       " 47.84662760416666,\n",
       " 49.28856770833333,\n",
       " 39.29203125,\n",
       " 38.364895833333335,\n",
       " 64.12713541666666,\n",
       " 60.18544270833333,\n",
       " 48.33891927083334,\n",
       " 53.59924479166666,\n",
       " 56.177721354166664,\n",
       " 56.4165625,\n",
       " 31.213359375,\n",
       " 76.6559375,\n",
       " 76.57290364583334,\n",
       " 33.08638020833333,\n",
       " 32.6022265625,\n",
       " 34.234973958333335,\n",
       " 31.941106770833333]"
      ]
     },
     "execution_count": 8,
     "metadata": {},
     "output_type": "execute_result"
    }
   ],
   "source": [
    "res"
   ]
  },
  {
   "cell_type": "code",
   "execution_count": 9,
   "metadata": {},
   "outputs": [],
   "source": [
    "import matplotlib.pyplot as plt\n",
    "%matplotlib inline"
   ]
  },
  {
   "cell_type": "code",
   "execution_count": 10,
   "metadata": {},
   "outputs": [
    {
     "data": {
      "text/plain": [
       "[<matplotlib.lines.Line2D at 0x7f7f37f60da0>]"
      ]
     },
     "execution_count": 10,
     "metadata": {},
     "output_type": "execute_result"
    },
    {
     "data": {
      "image/png": "[encoded data removed]",
      "text/plain": [
       "<Figure size 432x288 with 1 Axes>"
      ]
     },
     "metadata": {
      "needs_background": "light"
     },
     "output_type": "display_data"
    }
   ],
   "source": [
    "plt.plot(res)"
   ]
  },
  {
   "cell_type": "code",
   "execution_count": 11,
   "metadata": {},
   "outputs": [
    {
     "data": {
      "text/plain": [
       "array([[[225, 225, 225],\n",
       "        [225, 225, 225],\n",
       "        [225, 225, 225],\n",
       "        ...,\n",
       "        [222, 222, 222],\n",
       "        [222, 222, 222],\n",
       "        [222, 222, 222]],\n",
       "\n",
       "       [[225, 225, 225],\n",
       "        [225, 225, 225],\n",
       "        [225, 225, 225],\n",
       "        ...,\n",
       "        [222, 222, 222],\n",
       "        [222, 222, 222],\n",
       "        [222, 222, 222]],\n",
       "\n",
       "       [[225, 225, 225],\n",
       "        [225, 225, 225],\n",
       "        [225, 225, 225],\n",
       "        ...,\n",
       "        [222, 222, 222],\n",
       "        [222, 222, 222],\n",
       "        [222, 222, 222]],\n",
       "\n",
       "       ...,\n",
       "\n",
       "       [[125, 125, 125],\n",
       "        [125, 125, 125],\n",
       "        [125, 125, 125],\n",
       "        ...,\n",
       "        [210, 210, 210],\n",
       "        [208, 208, 208],\n",
       "        [206, 206, 206]],\n",
       "\n",
       "       [[125, 125, 125],\n",
       "        [125, 125, 125],\n",
       "        [125, 125, 125],\n",
       "        ...,\n",
       "        [210, 210, 210],\n",
       "        [208, 208, 208],\n",
       "        [206, 206, 206]],\n",
       "\n",
       "       [[125, 125, 125],\n",
       "        [125, 125, 125],\n",
       "        [125, 125, 125],\n",
       "        ...,\n",
       "        [210, 210, 210],\n",
       "        [208, 208, 208],\n",
       "        [206, 206, 206]]], dtype=uint8)"
      ]
     },
     "execution_count": 11,
     "metadata": {},
     "output_type": "execute_result"
    }
   ],
   "source": [
    "x[0]"
   ]
  },
  {
   "cell_type": "code",
   "execution_count": 12,
   "metadata": {},
   "outputs": [
    {
     "data": {
      "text/plain": [
       "array([[[225, 225, 225],\n",
       "        [225, 225, 225],\n",
       "        [225, 225, 225],\n",
       "        ...,\n",
       "        [225, 225, 225],\n",
       "        [225, 225, 225],\n",
       "        [225, 225, 225]],\n",
       "\n",
       "       [[225, 225, 225],\n",
       "        [225, 225, 225],\n",
       "        [225, 225, 225],\n",
       "        ...,\n",
       "        [225, 225, 225],\n",
       "        [225, 225, 225],\n",
       "        [225, 225, 225]],\n",
       "\n",
       "       [[225, 225, 225],\n",
       "        [225, 225, 225],\n",
       "        [225, 225, 225],\n",
       "        ...,\n",
       "        [225, 225, 225],\n",
       "        [225, 225, 225],\n",
       "        [225, 225, 225]],\n",
       "\n",
       "       ...,\n",
       "\n",
       "       [[128, 128, 128],\n",
       "        [128, 128, 128],\n",
       "        [128, 128, 128],\n",
       "        ...,\n",
       "        [211, 211, 211],\n",
       "        [209, 209, 209],\n",
       "        [209, 209, 209]],\n",
       "\n",
       "       [[128, 128, 128],\n",
       "        [128, 128, 128],\n",
       "        [128, 128, 128],\n",
       "        ...,\n",
       "        [211, 211, 211],\n",
       "        [209, 209, 209],\n",
       "        [209, 209, 209]],\n",
       "\n",
       "       [[128, 128, 128],\n",
       "        [128, 128, 128],\n",
       "        [128, 128, 128],\n",
       "        ...,\n",
       "        [211, 211, 211],\n",
       "        [209, 209, 209],\n",
       "        [209, 209, 209]]], dtype=uint8)"
      ]
     },
     "execution_count": 12,
     "metadata": {},
     "output_type": "execute_result"
    }
   ],
   "source": [
    "x[42]"
   ]
  },
  {
   "cell_type": "code",
   "execution_count": 15,
   "metadata": {},
   "outputs": [
    {
     "name": "stdout",
     "output_type": "stream",
     "text": [
      "[0, 1, 2, 3, 4, 5, 6, 7, 8, 9, 10, 11, 12, 13, 14, 15, 16, 17, 18, 19, 20, 21, 22, 23, 24, 25, 26, 27, 28, 29, 30, 31, 32, 33, 34, 35, 36, 37, 38, 39, 40, 41]\n"
     ]
    }
   ],
   "source": [
    "xs = [i for i in range(len(res))]\n",
    "print(xs)"
   ]
  },
  {
   "cell_type": "code",
   "execution_count": 16,
   "metadata": {},
   "outputs": [],
   "source": [
    "ys = [ys_i for _, ys_i in enumerate(res)]"
   ]
  },
  {
   "cell_type": "code",
   "execution_count": 17,
   "metadata": {},
   "outputs": [
    {
     "data": {
      "text/plain": [
       "[12.693802083333333,\n",
       " 18.5210546875,\n",
       " 20.720559895833333,\n",
       " 21.367916666666666,\n",
       " 22.712486979166666,\n",
       " 24.01348958333333,\n",
       " 36.943111979166666,\n",
       " 45.788125,\n",
       " 45.59063802083333,\n",
       " 34.2577734375,\n",
       " 53.2683984375,\n",
       " 28.496901041666668,\n",
       " 30.44953125,\n",
       " 30.7999609375,\n",
       " 38.48091145833333,\n",
       " 32.19579427083333,\n",
       " 42.0394921875,\n",
       " 35.7805078125,\n",
       " 53.7676171875,\n",
       " 54.10657552083333,\n",
       " 55.514270833333335,\n",
       " 37.84811197916667,\n",
       " 46.7851171875,\n",
       " 26.374127604166667,\n",
       " 44.308033854166666,\n",
       " 47.84662760416666,\n",
       " 49.28856770833333,\n",
       " 39.29203125,\n",
       " 38.364895833333335,\n",
       " 64.12713541666666,\n",
       " 60.18544270833333,\n",
       " 48.33891927083334,\n",
       " 53.59924479166666,\n",
       " 56.177721354166664,\n",
       " 56.4165625,\n",
       " 31.213359375,\n",
       " 76.6559375,\n",
       " 76.57290364583334,\n",
       " 33.08638020833333,\n",
       " 32.6022265625,\n",
       " 34.234973958333335,\n",
       " 31.941106770833333]"
      ]
     },
     "execution_count": 17,
     "metadata": {},
     "output_type": "execute_result"
    }
   ],
   "source": [
    "ys"
   ]
  },
  {
   "cell_type": "code",
   "execution_count": 18,
   "metadata": {},
   "outputs": [
    {
     "data": {
      "text/plain": [
       "<BarContainer object of 42 artists>"
      ]
     },
     "execution_count": 18,
     "metadata": {},
     "output_type": "execute_result"
    },
    {
     "data": {
      "image/png": "[encoded data removed]",
      "text/plain": [
       "<Figure size 432x288 with 1 Axes>"
      ]
     },
     "metadata": {
      "needs_background": "light"
     },
     "output_type": "display_data"
    }
   ],
   "source": [
    "plt.bar(xs, ys, width=1)"
   ]
  },
  {
   "cell_type": "code",
   "execution_count": 22,
   "metadata": {},
   "outputs": [],
   "source": [
    "a = np.absolute(x[1]-x[0])"
   ]
  },
  {
   "cell_type": "code",
   "execution_count": 23,
   "metadata": {},
   "outputs": [
    {
     "data": {
      "text/plain": [
       "2924652"
      ]
     },
     "execution_count": 23,
     "metadata": {},
     "output_type": "execute_result"
    }
   ],
   "source": [
    "np.sum(a)"
   ]
  },
  {
   "cell_type": "code",
   "execution_count": 24,
   "metadata": {},
   "outputs": [
    {
     "data": {
      "text/plain": [
       "7359231"
      ]
     },
     "execution_count": 24,
     "metadata": {},
     "output_type": "execute_result"
    }
   ],
   "source": [
    "b = np.absolute(x[42]-x[0])l\n",
    "np.sum(b)"
   ]
  },
  {
   "cell_type": "code",
   "execution_count": 25,
   "metadata": {},
   "outputs": [],
   "source": [
    "from scipy.ndimage.filters import gaussian_filter"
   ]
  },
  {
   "cell_type": "code",
   "execution_count": 26,
   "metadata": {},
   "outputs": [],
   "source": [
    "x_filtered = gaussian_filter(x, sigma=7)"
   ]
  },
  {
   "cell_type": "code",
   "execution_count": 27,
   "metadata": {},
   "outputs": [
    {
     "data": {
      "text/plain": [
       "numpy.ndarray"
      ]
     },
     "execution_count": 27,
     "metadata": {},
     "output_type": "execute_result"
    }
   ],
   "source": [
    "type(x_filtered)"
   ]
  },
  {
   "cell_type": "code",
   "execution_count": 30,
   "metadata": {},
   "outputs": [],
   "source": [
    "res_filtered = []\n",
    "for i in range(1, x_filtered.shape[0]):\n",
    "    res_filtered.append(np.mean(x_filtered[i]-x_filtered[0]))"
   ]
  },
  {
   "cell_type": "code",
   "execution_count": 32,
   "metadata": {},
   "outputs": [],
   "source": [
    "ys_f = [ys_fi for _, ys_fi in enumerate(res_filtered)]"
   ]
  },
  {
   "cell_type": "code",
   "execution_count": 33,
   "metadata": {},
   "outputs": [
    {
     "data": {
      "text/plain": [
       "<BarContainer object of 42 artists>"
      ]
     },
     "execution_count": 33,
     "metadata": {},
     "output_type": "execute_result"
    },
    {
     "data": {
      "image/png": "[encoded data removed]",
      "text/plain": [
       "<Figure size 432x288 with 1 Axes>"
      ]
     },
     "metadata": {
      "needs_background": "light"
     },
     "output_type": "display_data"
    }
   ],
   "source": [
    "plt.bar(xs, ys_f, width=1)"
   ]
  },
  {
   "cell_type": "code",
   "execution_count": 34,
   "metadata": {},
   "outputs": [],
   "source": [
    "x_filtered = gaussian_filter(res, sigma=7)"
   ]
  },
  {
   "cell_type": "code",
   "execution_count": 35,
   "metadata": {},
   "outputs": [],
   "source": [
    "ys_f = [ys_fi for _, ys_fi in enumerate(x_filtered)]"
   ]
  },
  {
   "cell_type": "code",
   "execution_count": 36,
   "metadata": {},
   "outputs": [
    {
     "data": {
      "text/plain": [
       "<BarContainer object of 42 artists>"
      ]
     },
     "execution_count": 36,
     "metadata": {},
     "output_type": "execute_result"
    },
    {
     "data": {
      "image/png": "[encoded data removed]",
      "text/plain": [
       "<Figure size 432x288 with 1 Axes>"
      ]
     },
     "metadata": {
      "needs_background": "light"
     },
     "output_type": "display_data"
    }
   ],
   "source": [
    "plt.bar(xs, ys_f, width=1)"
   ]
  },
  {
   "cell_type": "code",
   "execution_count": 57,
   "metadata": {},
   "outputs": [],
   "source": [
    "s = 'video_05183.npy'\n",
    "x = np.load(s)"
   ]
  },
  {
   "cell_type": "code",
   "execution_count": 58,
   "metadata": {},
   "outputs": [
    {
     "data": {
      "text/plain": [
       "(197, 240, 320, 3)"
      ]
     },
     "execution_count": 58,
     "metadata": {},
     "output_type": "execute_result"
    }
   ],
   "source": [
    "x.shape"
   ]
  },
  {
   "cell_type": "code",
   "execution_count": 59,
   "metadata": {},
   "outputs": [],
   "source": [
    "res = []\n",
    "for i in range(1, x.shape[0]):\n",
    "    res.append(np.mean(x[i]-x[0]))\n",
    "    "
   ]
  },
  {
   "cell_type": "code",
   "execution_count": 60,
   "metadata": {},
   "outputs": [],
   "source": [
    "xs = [i for i in range(len(res))]\n",
    "ys = [ys_i for _, ys_i in enumerate(res)]"
   ]
  },
  {
   "cell_type": "code",
   "execution_count": 61,
   "metadata": {},
   "outputs": [
    {
     "data": {
      "text/plain": [
       "<BarContainer object of 196 artists>"
      ]
     },
     "execution_count": 61,
     "metadata": {},
     "output_type": "execute_result"
    },
    {
     "data": {
      "image/png": "[encoded data removed]",
      "text/plain": [
       "<Figure size 432x288 with 1 Axes>"
      ]
     },
     "metadata": {
      "needs_background": "light"
     },
     "output_type": "display_data"
    }
   ],
   "source": [
    "plt.bar(xs, ys, width=1)"
   ]
  },
  {
   "cell_type": "code",
   "execution_count": 62,
   "metadata": {},
   "outputs": [],
   "source": [
    "res_fil = gaussian_filter(res, sigma=7)"
   ]
  },
  {
   "cell_type": "code",
   "execution_count": 63,
   "metadata": {},
   "outputs": [],
   "source": [
    "ys = [ys_i for _, ys_i in enumerate(res_fil)]"
   ]
  },
  {
   "cell_type": "code",
   "execution_count": 64,
   "metadata": {},
   "outputs": [
    {
     "data": {
      "image/png": "[encoded data removed]",
      "text/plain": [
       "<Figure size 432x288 with 1 Axes>"
      ]
     },
     "metadata": {
      "needs_background": "light"
     },
     "output_type": "display_data"
    }
   ],
   "source": [
    "horizontal = [31, 87, 165]\n",
    "plt.bar(xs, ys, width=2)\n",
    "for vc in horizontal:\n",
    "    plt.axvline(x=vc, color='red')"
   ]
  },
  {
   "cell_type": "code",
   "execution_count": 53,
   "metadata": {},
   "outputs": [
    {
     "data": {
      "text/plain": [
       "56.53591145833333"
      ]
     },
     "execution_count": 53,
     "metadata": {},
     "output_type": "execute_result"
    }
   ],
   "source": [
    "res[249]"
   ]
  },
  {
   "cell_type": "code",
   "execution_count": null,
   "metadata": {},
   "outputs": [],
   "source": []
  }
 ],
 "metadata": {
  "kernelspec": {
   "display_name": "Python 3",
   "language": "python",
   "name": "python3"
  },
  "language_info": {
   "codemirror_mode": {
    "name": "ipython",
    "version": 3
   },
   "file_extension": ".py",
   "mimetype": "text/x-python",
   "name": "python",
   "nbconvert_exporter": "python",
   "pygments_lexer": "ipython3",
   "version": "3.6.7"
  }
 },
 "nbformat": 4,
 "nbformat_minor": 2
}
